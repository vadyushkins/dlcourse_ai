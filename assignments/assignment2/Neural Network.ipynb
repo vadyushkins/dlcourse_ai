{
 "cells": [
  {
   "cell_type": "markdown",
   "metadata": {},
   "source": [
    "# Задание 2.1 - Нейронные сети\n",
    "\n",
    "В этом задании вы реализуете и натренируете настоящую нейроную сеть своими руками!\n",
    "\n",
    "В некотором смысле это будет расширением прошлого задания - нам нужно просто составить несколько линейных классификаторов вместе!\n",
    "\n",
    "<img src=\"https://i.redd.it/n9fgba8b0qr01.png\" alt=\"Stack_more_layers\" width=\"400px\"/>"
   ]
  },
  {
   "cell_type": "code",
   "execution_count": 1,
   "metadata": {},
   "outputs": [],
   "source": [
    "import numpy as np\n",
    "import matplotlib.pyplot as plt\n",
    "\n",
    "%matplotlib inline\n",
    "\n",
    "%load_ext autoreload\n",
    "%autoreload 2"
   ]
  },
  {
   "cell_type": "code",
   "execution_count": 2,
   "metadata": {},
   "outputs": [],
   "source": [
    "from dataset import load_svhn, random_split_train_val\n",
    "from gradient_check import check_layer_gradient, check_layer_param_gradient, check_model_gradient\n",
    "from layers import FullyConnectedLayer, ReLULayer\n",
    "from model import TwoLayerNet\n",
    "from trainer import Trainer, Dataset\n",
    "from optim import SGD, MomentumSGD\n",
    "from metrics import multiclass_accuracy"
   ]
  },
  {
   "cell_type": "markdown",
   "metadata": {},
   "source": [
    "# Загружаем данные\n",
    "\n",
    "И разделяем их на training и validation."
   ]
  },
  {
   "cell_type": "code",
   "execution_count": 3,
   "metadata": {},
   "outputs": [
    {
     "name": "stderr",
     "output_type": "stream",
     "text": [
      "<ipython-input-3-0db367189513>:2: DeprecationWarning: `np.float` is a deprecated alias for the builtin `float`. To silence this warning, use `float` by itself. Doing this will not modify any behavior and is safe. If you specifically wanted the numpy scalar type, use `np.float64` here.\n",
      "Deprecated in NumPy 1.20; for more details and guidance: https://numpy.org/devdocs/release/1.20.0-notes.html#deprecations\n",
      "  train_flat = train_X.reshape(train_X.shape[0], -1).astype(np.float) / 255.0\n",
      "<ipython-input-3-0db367189513>:3: DeprecationWarning: `np.float` is a deprecated alias for the builtin `float`. To silence this warning, use `float` by itself. Doing this will not modify any behavior and is safe. If you specifically wanted the numpy scalar type, use `np.float64` here.\n",
      "Deprecated in NumPy 1.20; for more details and guidance: https://numpy.org/devdocs/release/1.20.0-notes.html#deprecations\n",
      "  test_flat = test_X.reshape(test_X.shape[0], -1).astype(np.float) / 255.0\n"
     ]
    }
   ],
   "source": [
    "def prepare_for_neural_network(train_X, test_X):\n",
    "    train_flat = train_X.reshape(train_X.shape[0], -1).astype(np.float) / 255.0\n",
    "    test_flat = test_X.reshape(test_X.shape[0], -1).astype(np.float) / 255.0\n",
    "    \n",
    "    # Subtract mean\n",
    "    mean_image = np.mean(train_flat, axis = 0)\n",
    "    train_flat -= mean_image\n",
    "    test_flat -= mean_image\n",
    "    \n",
    "    return train_flat, test_flat\n",
    "    \n",
    "train_X, train_y, test_X, test_y = load_svhn(\"data\", max_train=10000, max_test=1000)    \n",
    "train_X, test_X = prepare_for_neural_network(train_X, test_X)\n",
    "# Split train into train and val\n",
    "train_X, train_y, val_X, val_y = random_split_train_val(train_X, train_y, num_val = 1000)"
   ]
  },
  {
   "cell_type": "markdown",
   "metadata": {},
   "source": [
    "# Как всегда, начинаем с кирпичиков\n",
    "\n",
    "Мы будем реализовывать необходимые нам слои по очереди. Каждый слой должен реализовать:\n",
    "- прямой проход (forward pass), который генерирует выход слоя по входу и запоминает необходимые данные\n",
    "- обратный проход (backward pass), который получает градиент по выходу слоя и вычисляет градиент по входу и по параметрам\n",
    "\n",
    "Начнем с ReLU, у которого параметров нет."
   ]
  },
  {
   "cell_type": "code",
   "execution_count": 4,
   "metadata": {
    "scrolled": false
   },
   "outputs": [
    {
     "name": "stdout",
     "output_type": "stream",
     "text": [
      "Gradient check passed!\n"
     ]
    }
   ],
   "source": [
    "# TODO: Implement ReLULayer layer in layers.py\n",
    "# Note: you'll need to copy implementation of the gradient_check function from the previous assignment\n",
    "\n",
    "X = np.array([[1,-2,3],\n",
    "              [-1, 2, 0.1]\n",
    "              ])\n",
    "\n",
    "assert check_layer_gradient(ReLULayer(), X)"
   ]
  },
  {
   "cell_type": "markdown",
   "metadata": {},
   "source": [
    "А теперь реализуем полносвязный слой (fully connected layer), у которого будет два массива параметров: W (weights) и B (bias).\n",
    "\n",
    "Все параметры наши слои будут использовать для параметров специальный класс `Param`, в котором будут храниться значения параметров и градиенты этих параметров, вычисляемые во время обратного прохода.\n",
    "\n",
    "Это даст возможность аккумулировать (суммировать) градиенты из разных частей функции потерь, например, из cross-entropy loss и regularization loss."
   ]
  },
  {
   "cell_type": "code",
   "execution_count": 5,
   "metadata": {},
   "outputs": [
    {
     "name": "stdout",
     "output_type": "stream",
     "text": [
      "Gradient check passed!\n",
      "Gradient check passed!\n",
      "Gradient check passed!\n"
     ]
    }
   ],
   "source": [
    "# TODO: Implement FullyConnected layer forward and backward methods\n",
    "assert check_layer_gradient(FullyConnectedLayer(3, 4), X)\n",
    "# TODO: Implement storing gradients for W and B\n",
    "assert check_layer_param_gradient(FullyConnectedLayer(3, 4), X, 'W')\n",
    "assert check_layer_param_gradient(FullyConnectedLayer(3, 4), X, 'B')"
   ]
  },
  {
   "cell_type": "markdown",
   "metadata": {},
   "source": [
    "## Создаем нейронную сеть\n",
    "\n",
    "Теперь мы реализуем простейшую нейронную сеть с двумя полносвязным слоями и нелинейностью ReLU. Реализуйте функцию `compute_loss_and_gradients`, она должна запустить прямой и обратный проход через оба слоя для вычисления градиентов.\n",
    "\n",
    "Не забудьте реализовать очистку градиентов в начале функции."
   ]
  },
  {
   "cell_type": "code",
   "execution_count": 6,
   "metadata": {},
   "outputs": [
    {
     "name": "stdout",
     "output_type": "stream",
     "text": [
      "Checking gradient for W_in\n",
      "Gradient check passed!\n",
      "Checking gradient for B_in\n",
      "Gradient check passed!\n",
      "Checking gradient for W_out\n",
      "Gradient check passed!\n",
      "Checking gradient for B_out\n",
      "Gradient check passed!\n"
     ]
    },
    {
     "data": {
      "text/plain": "True"
     },
     "execution_count": 6,
     "metadata": {},
     "output_type": "execute_result"
    }
   ],
   "source": [
    "# TODO: In model.py, implement compute_loss_and_gradients function\n",
    "model = TwoLayerNet(n_input = train_X.shape[1], n_output = 10, hidden_layer_size = 3, reg = 0)\n",
    "loss = model.compute_loss_and_gradients(train_X[:2], train_y[:2])\n",
    "\n",
    "# TODO Now implement backward pass and aggregate all of the params\n",
    "check_model_gradient(model, train_X[:2], train_y[:2])"
   ]
  },
  {
   "cell_type": "markdown",
   "metadata": {},
   "source": [
    "Теперь добавьте к модели регуляризацию - она должна прибавляться к loss и делать свой вклад в градиенты."
   ]
  },
  {
   "cell_type": "code",
   "execution_count": 7,
   "metadata": {},
   "outputs": [
    {
     "name": "stdout",
     "output_type": "stream",
     "text": [
      "Checking gradient for W_in\n",
      "Gradient check passed!\n",
      "Checking gradient for B_in\n",
      "Gradient check passed!\n",
      "Checking gradient for W_out\n",
      "Gradient check passed!\n",
      "Checking gradient for B_out\n",
      "Gradient check passed!\n"
     ]
    },
    {
     "data": {
      "text/plain": "True"
     },
     "execution_count": 7,
     "metadata": {},
     "output_type": "execute_result"
    }
   ],
   "source": [
    "# TODO Now implement l2 regularization in the forward and backward pass\n",
    "model_with_reg = TwoLayerNet(n_input = train_X.shape[1], n_output = 10, hidden_layer_size = 3, reg = 1e1)\n",
    "loss_with_reg = model_with_reg.compute_loss_and_gradients(train_X[:2], train_y[:2])\n",
    "assert loss_with_reg > loss and not np.isclose(loss_with_reg, loss), \\\n",
    "    \"Loss with regularization (%2.4f) should be higher than without it (%2.4f)!\" % (loss, loss_with_reg)\n",
    "\n",
    "check_model_gradient(model_with_reg, train_X[:2], train_y[:2])"
   ]
  },
  {
   "cell_type": "markdown",
   "metadata": {},
   "source": [
    "Также реализуем функцию предсказания (вычисления значения) модели на новых данных.\n",
    "\n",
    "Какое значение точности мы ожидаем увидеть до начала тренировки?"
   ]
  },
  {
   "cell_type": "markdown",
   "source": [
    "**Ответ:** около 0.1, поскольку сеть еше не тренирована"
   ],
   "metadata": {
    "collapsed": false,
    "pycharm": {
     "name": "#%% md\n"
    }
   }
  },
  {
   "cell_type": "code",
   "execution_count": 8,
   "metadata": {},
   "outputs": [
    {
     "data": {
      "text/plain": "0.1"
     },
     "execution_count": 8,
     "metadata": {},
     "output_type": "execute_result"
    }
   ],
   "source": [
    "# Finally, implement predict function!\n",
    "\n",
    "# TODO: Implement predict function\n",
    "# What would be the value we expect?\n",
    "multiclass_accuracy(model_with_reg.predict(train_X[:30]), train_y[:30]) "
   ]
  },
  {
   "cell_type": "markdown",
   "metadata": {},
   "source": [
    "# Допишем код для процесса тренировки\n",
    "\n",
    "Если все реализовано корректно, значение функции ошибки должно уменьшаться с каждой эпохой, пусть и медленно. Не беспокойтесь пока про validation accuracy."
   ]
  },
  {
   "cell_type": "code",
   "execution_count": 9,
   "metadata": {},
   "outputs": [
    {
     "name": "stdout",
     "output_type": "stream",
     "text": [
      "Epoch: 0, loss: 2.291236, train accuracy: 0.196667, val accuracy: 0.206000\n",
      "Epoch: 1, loss: 2.277068, train accuracy: 0.196667, val accuracy: 0.206000\n",
      "Epoch: 2, loss: 2.261643, train accuracy: 0.196667, val accuracy: 0.206000\n",
      "Epoch: 3, loss: 2.289942, train accuracy: 0.196667, val accuracy: 0.206000\n",
      "Epoch: 4, loss: 2.260467, train accuracy: 0.196667, val accuracy: 0.206000\n",
      "Epoch: 5, loss: 2.223411, train accuracy: 0.196667, val accuracy: 0.206000\n",
      "Epoch: 6, loss: 2.312400, train accuracy: 0.196667, val accuracy: 0.206000\n",
      "Epoch: 7, loss: 2.246598, train accuracy: 0.196667, val accuracy: 0.206000\n",
      "Epoch: 8, loss: 2.273079, train accuracy: 0.196667, val accuracy: 0.206000\n",
      "Epoch: 9, loss: 2.233200, train accuracy: 0.196667, val accuracy: 0.206000\n",
      "Epoch: 10, loss: 2.241732, train accuracy: 0.196667, val accuracy: 0.206000\n",
      "Epoch: 11, loss: 2.289773, train accuracy: 0.196667, val accuracy: 0.206000\n",
      "Epoch: 12, loss: 2.297524, train accuracy: 0.196667, val accuracy: 0.206000\n",
      "Epoch: 13, loss: 2.266389, train accuracy: 0.196667, val accuracy: 0.206000\n",
      "Epoch: 14, loss: 2.333404, train accuracy: 0.196667, val accuracy: 0.206000\n",
      "Epoch: 15, loss: 2.206271, train accuracy: 0.196667, val accuracy: 0.206000\n",
      "Epoch: 16, loss: 2.276444, train accuracy: 0.196667, val accuracy: 0.206000\n",
      "Epoch: 17, loss: 2.273588, train accuracy: 0.196667, val accuracy: 0.206000\n",
      "Epoch: 18, loss: 2.243850, train accuracy: 0.196667, val accuracy: 0.206000\n",
      "Epoch: 19, loss: 2.250692, train accuracy: 0.196667, val accuracy: 0.206000\n"
     ]
    }
   ],
   "source": [
    "model = TwoLayerNet(n_input = train_X.shape[1], n_output = 10, hidden_layer_size = 100, reg = 1e-3)\n",
    "dataset = Dataset(train_X, train_y, val_X, val_y)\n",
    "trainer = Trainer(model, dataset, SGD(), learning_rate = 1e-3)\n",
    "\n",
    "# TODO Implement missing pieces in Trainer.fit function\n",
    "# You should expect loss to go down every epoch, even if it's slow\n",
    "loss_history, train_history, val_history = trainer.fit()"
   ]
  },
  {
   "cell_type": "code",
   "execution_count": 10,
   "metadata": {},
   "outputs": [
    {
     "data": {
      "text/plain": "<Figure size 432x288 with 1 Axes>",
      "image/png": "[encoded data removed]"
     },
     "metadata": {
      "needs_background": "light"
     },
     "output_type": "display_data"
    }
   ],
   "source": [
    "plt.plot(loss_history);"
   ]
  },
  {
   "cell_type": "markdown",
   "metadata": {},
   "source": [
    "# Улучшаем процесс тренировки\n",
    "\n",
    "Мы реализуем несколько ключевых оптимизаций, необходимых для тренировки современных нейросетей."
   ]
  },
  {
   "cell_type": "markdown",
   "metadata": {},
   "source": [
    "## Уменьшение скорости обучения (learning rate decay)\n",
    "\n",
    "Одна из необходимых оптимизаций во время тренировки нейронных сетей - постепенное уменьшение скорости обучения по мере тренировки.\n",
    "\n",
    "Один из стандартных методов - уменьшение скорости обучения (learning rate) каждые N эпох на коэффициент d (часто называемый decay). Значения N и d, как всегда, являются гиперпараметрами и должны подбираться на основе эффективности на проверочных данных (validation data). \n",
    "\n",
    "В нашем случае N будет равным 1."
   ]
  },
  {
   "cell_type": "code",
   "execution_count": 11,
   "metadata": {},
   "outputs": [
    {
     "name": "stdout",
     "output_type": "stream",
     "text": [
      "Epoch: 0, loss: 2.294697, train accuracy: 0.196667, val accuracy: 0.206000\n",
      "Epoch: 1, loss: 2.309085, train accuracy: 0.196667, val accuracy: 0.206000\n",
      "Epoch: 2, loss: 2.279445, train accuracy: 0.196667, val accuracy: 0.206000\n",
      "Epoch: 3, loss: 2.283792, train accuracy: 0.196667, val accuracy: 0.206000\n",
      "Epoch: 4, loss: 2.262690, train accuracy: 0.196667, val accuracy: 0.206000\n",
      "Epoch: 5, loss: 2.260904, train accuracy: 0.196667, val accuracy: 0.206000\n",
      "Epoch: 6, loss: 2.231392, train accuracy: 0.196667, val accuracy: 0.206000\n",
      "Epoch: 7, loss: 2.295788, train accuracy: 0.196667, val accuracy: 0.206000\n",
      "Epoch: 8, loss: 2.290340, train accuracy: 0.196667, val accuracy: 0.206000\n",
      "Epoch: 9, loss: 2.287723, train accuracy: 0.196667, val accuracy: 0.206000\n",
      "Epoch: 10, loss: 2.229048, train accuracy: 0.196667, val accuracy: 0.206000\n",
      "Epoch: 11, loss: 2.265880, train accuracy: 0.196667, val accuracy: 0.206000\n",
      "Epoch: 12, loss: 2.320411, train accuracy: 0.196667, val accuracy: 0.206000\n",
      "Epoch: 13, loss: 2.195661, train accuracy: 0.196667, val accuracy: 0.206000\n",
      "Epoch: 14, loss: 2.344058, train accuracy: 0.196667, val accuracy: 0.206000\n",
      "Epoch: 15, loss: 2.239686, train accuracy: 0.196667, val accuracy: 0.206000\n",
      "Epoch: 16, loss: 2.283518, train accuracy: 0.196667, val accuracy: 0.206000\n",
      "Epoch: 17, loss: 2.237436, train accuracy: 0.196667, val accuracy: 0.206000\n",
      "Epoch: 18, loss: 2.241869, train accuracy: 0.196667, val accuracy: 0.206000\n",
      "Epoch: 19, loss: 2.229983, train accuracy: 0.196667, val accuracy: 0.206000\n"
     ]
    }
   ],
   "source": [
    "# TODO Implement learning rate decay inside Trainer.fit method\n",
    "# Decay should happen once per epoch\n",
    "\n",
    "model = TwoLayerNet(n_input = train_X.shape[1], n_output = 10, hidden_layer_size = 100, reg = 1e-3)\n",
    "dataset = Dataset(train_X, train_y, val_X, val_y)\n",
    "trainer = Trainer(model, dataset, SGD(), learning_rate=1e-3, learning_rate_decay=0.99)\n",
    "\n",
    "initial_learning_rate = trainer.learning_rate\n",
    "loss_history, train_history, val_history = trainer.fit()\n",
    "\n",
    "assert trainer.learning_rate < initial_learning_rate, \"Learning rate should've been reduced\"\n",
    "assert trainer.learning_rate > 0.5*initial_learning_rate, \"Learning rate shouldn'tve been reduced that much!\""
   ]
  },
  {
   "cell_type": "code",
   "execution_count": 12,
   "outputs": [
    {
     "data": {
      "text/plain": "<Figure size 432x288 with 1 Axes>",
      "image/png": "[encoded data removed]"
     },
     "metadata": {
      "needs_background": "light"
     },
     "output_type": "display_data"
    }
   ],
   "source": [
    "plt.plot(loss_history);"
   ],
   "metadata": {
    "collapsed": false,
    "pycharm": {
     "name": "#%%\n"
    }
   }
  },
  {
   "cell_type": "markdown",
   "metadata": {},
   "source": [
    "# Накопление импульса (Momentum SGD)\n",
    "\n",
    "Другой большой класс оптимизаций - использование более эффективных методов градиентного спуска. Мы реализуем один из них - накопление импульса (Momentum SGD).\n",
    "\n",
    "Этот метод хранит скорость движения, использует градиент для ее изменения на каждом шаге, и изменяет веса пропорционально значению скорости.\n",
    "(Физическая аналогия: Вместо скорости градиенты теперь будут задавать ускорение, но будет присутствовать сила трения.)\n",
    "\n",
    "```\n",
    "velocity = momentum * velocity - learning_rate * gradient \n",
    "w = w + velocity\n",
    "```\n",
    "\n",
    "`momentum` здесь коэффициент затухания, который тоже является гиперпараметром (к счастью, для него часто есть хорошее значение по умолчанию, типичный диапазон -- 0.8-0.99).\n",
    "\n",
    "Несколько полезных ссылок, где метод разбирается более подробно:  \n",
    "http://cs231n.github.io/neural-networks-3/#sgd  \n",
    "https://distill.pub/2017/momentum/"
   ]
  },
  {
   "cell_type": "code",
   "execution_count": 13,
   "metadata": {},
   "outputs": [
    {
     "name": "stdout",
     "output_type": "stream",
     "text": [
      "Epoch: 0, loss: 2.252894, train accuracy: 0.196667, val accuracy: 0.206000\n",
      "Epoch: 1, loss: 2.197964, train accuracy: 0.196667, val accuracy: 0.206000\n",
      "Epoch: 2, loss: 2.315294, train accuracy: 0.196667, val accuracy: 0.206000\n",
      "Epoch: 3, loss: 2.004477, train accuracy: 0.196667, val accuracy: 0.206000\n",
      "Epoch: 4, loss: 2.090921, train accuracy: 0.196667, val accuracy: 0.206000\n",
      "Epoch: 5, loss: 2.321708, train accuracy: 0.196667, val accuracy: 0.206000\n",
      "Epoch: 6, loss: 2.096080, train accuracy: 0.196667, val accuracy: 0.206000\n",
      "Epoch: 7, loss: 2.174662, train accuracy: 0.196667, val accuracy: 0.206000\n",
      "Epoch: 8, loss: 2.104533, train accuracy: 0.198333, val accuracy: 0.209000\n",
      "Epoch: 9, loss: 2.124325, train accuracy: 0.222889, val accuracy: 0.226000\n",
      "Epoch: 10, loss: 2.045311, train accuracy: 0.251667, val accuracy: 0.256000\n",
      "Epoch: 11, loss: 2.103846, train accuracy: 0.261778, val accuracy: 0.261000\n",
      "Epoch: 12, loss: 1.813391, train accuracy: 0.273667, val accuracy: 0.270000\n",
      "Epoch: 13, loss: 2.039736, train accuracy: 0.288333, val accuracy: 0.292000\n",
      "Epoch: 14, loss: 1.934480, train accuracy: 0.316222, val accuracy: 0.325000\n",
      "Epoch: 15, loss: 1.858954, train accuracy: 0.342556, val accuracy: 0.340000\n",
      "Epoch: 16, loss: 1.888880, train accuracy: 0.370778, val accuracy: 0.363000\n",
      "Epoch: 17, loss: 1.611997, train accuracy: 0.390111, val accuracy: 0.388000\n",
      "Epoch: 18, loss: 1.727864, train accuracy: 0.412111, val accuracy: 0.407000\n",
      "Epoch: 19, loss: 1.815272, train accuracy: 0.436556, val accuracy: 0.422000\n"
     ]
    }
   ],
   "source": [
    "# TODO: Implement MomentumSGD.update function in optim.py\n",
    "\n",
    "model = TwoLayerNet(n_input = train_X.shape[1], n_output = 10, hidden_layer_size = 100, reg = 1e-3)\n",
    "dataset = Dataset(train_X, train_y, val_X, val_y)\n",
    "trainer = Trainer(model, dataset, MomentumSGD(), learning_rate=1e-3, learning_rate_decay=0.99)\n",
    "\n",
    "# You should see even better results than before!\n",
    "loss_history, train_history, val_history = trainer.fit()"
   ]
  },
  {
   "cell_type": "code",
   "execution_count": 14,
   "outputs": [
    {
     "data": {
      "text/plain": "<Figure size 432x288 with 1 Axes>",
      "image/png": "[encoded data removed]"
     },
     "metadata": {
      "needs_background": "light"
     },
     "output_type": "display_data"
    }
   ],
   "source": [
    "plt.plot(loss_history);"
   ],
   "metadata": {
    "collapsed": false,
    "pycharm": {
     "name": "#%%\n"
    }
   }
  },
  {
   "cell_type": "markdown",
   "metadata": {},
   "source": [
    "# Ну что, давайте уже тренировать сеть!"
   ]
  },
  {
   "cell_type": "markdown",
   "metadata": {},
   "source": [
    "## Последний тест - переобучимся (overfit) на маленьком наборе данных\n",
    "\n",
    "Хороший способ проверить, все ли реализовано корректно - переобучить сеть на маленьком наборе данных.  \n",
    "Наша модель обладает достаточной мощностью, чтобы приблизить маленький набор данных идеально, поэтому мы ожидаем, что на нем мы быстро дойдем до 100% точности на тренировочном наборе. \n",
    "\n",
    "Если этого не происходит, то где-то была допущена ошибка!"
   ]
  },
  {
   "cell_type": "code",
   "execution_count": 15,
   "metadata": {},
   "outputs": [
    {
     "name": "stdout",
     "output_type": "stream",
     "text": [
      "Epoch: 0, loss: 2.351801, train accuracy: 0.200000, val accuracy: 0.133333\n",
      "Epoch: 1, loss: 2.319693, train accuracy: 0.200000, val accuracy: 0.133333\n",
      "Epoch: 2, loss: 2.295926, train accuracy: 0.200000, val accuracy: 0.133333\n",
      "Epoch: 3, loss: 2.345443, train accuracy: 0.200000, val accuracy: 0.133333\n",
      "Epoch: 4, loss: 2.310013, train accuracy: 0.200000, val accuracy: 0.133333\n",
      "Epoch: 5, loss: 2.326544, train accuracy: 0.200000, val accuracy: 0.133333\n",
      "Epoch: 6, loss: 2.255641, train accuracy: 0.200000, val accuracy: 0.133333\n",
      "Epoch: 7, loss: 2.199259, train accuracy: 0.200000, val accuracy: 0.066667\n",
      "Epoch: 8, loss: 2.164561, train accuracy: 0.333333, val accuracy: 0.066667\n",
      "Epoch: 9, loss: 2.025661, train accuracy: 0.400000, val accuracy: 0.000000\n",
      "Epoch: 10, loss: 1.883798, train accuracy: 0.400000, val accuracy: 0.000000\n",
      "Epoch: 11, loss: 2.263931, train accuracy: 0.400000, val accuracy: 0.000000\n",
      "Epoch: 12, loss: 1.662918, train accuracy: 0.333333, val accuracy: 0.000000\n",
      "Epoch: 13, loss: 2.245522, train accuracy: 0.333333, val accuracy: 0.000000\n",
      "Epoch: 14, loss: 1.943906, train accuracy: 0.400000, val accuracy: 0.000000\n",
      "Epoch: 15, loss: 1.663953, train accuracy: 0.333333, val accuracy: 0.000000\n",
      "Epoch: 16, loss: 2.042200, train accuracy: 0.400000, val accuracy: 0.000000\n",
      "Epoch: 17, loss: 1.418303, train accuracy: 0.400000, val accuracy: 0.000000\n",
      "Epoch: 18, loss: 1.519709, train accuracy: 0.400000, val accuracy: 0.000000\n",
      "Epoch: 19, loss: 1.823944, train accuracy: 0.466667, val accuracy: 0.000000\n",
      "Epoch: 20, loss: 2.022291, train accuracy: 0.400000, val accuracy: 0.000000\n",
      "Epoch: 21, loss: 1.585656, train accuracy: 0.400000, val accuracy: 0.000000\n",
      "Epoch: 22, loss: 1.937038, train accuracy: 0.400000, val accuracy: 0.066667\n",
      "Epoch: 23, loss: 1.908215, train accuracy: 0.466667, val accuracy: 0.000000\n",
      "Epoch: 24, loss: 1.233499, train accuracy: 0.466667, val accuracy: 0.000000\n",
      "Epoch: 25, loss: 2.095108, train accuracy: 0.466667, val accuracy: 0.000000\n",
      "Epoch: 26, loss: 1.718242, train accuracy: 0.466667, val accuracy: 0.066667\n",
      "Epoch: 27, loss: 2.162756, train accuracy: 0.466667, val accuracy: 0.066667\n",
      "Epoch: 28, loss: 2.015933, train accuracy: 0.466667, val accuracy: 0.000000\n",
      "Epoch: 29, loss: 1.363952, train accuracy: 0.466667, val accuracy: 0.000000\n",
      "Epoch: 30, loss: 1.842670, train accuracy: 0.533333, val accuracy: 0.000000\n",
      "Epoch: 31, loss: 1.657567, train accuracy: 0.533333, val accuracy: 0.066667\n",
      "Epoch: 32, loss: 1.388463, train accuracy: 0.533333, val accuracy: 0.066667\n",
      "Epoch: 33, loss: 1.911120, train accuracy: 0.533333, val accuracy: 0.066667\n",
      "Epoch: 34, loss: 1.693765, train accuracy: 0.600000, val accuracy: 0.000000\n",
      "Epoch: 35, loss: 2.010436, train accuracy: 0.600000, val accuracy: 0.066667\n",
      "Epoch: 36, loss: 1.115900, train accuracy: 0.600000, val accuracy: 0.066667\n",
      "Epoch: 37, loss: 1.613706, train accuracy: 0.600000, val accuracy: 0.066667\n",
      "Epoch: 38, loss: 1.738574, train accuracy: 0.600000, val accuracy: 0.066667\n",
      "Epoch: 39, loss: 1.885192, train accuracy: 0.600000, val accuracy: 0.066667\n",
      "Epoch: 40, loss: 2.474042, train accuracy: 0.666667, val accuracy: 0.066667\n",
      "Epoch: 41, loss: 1.119274, train accuracy: 0.666667, val accuracy: 0.066667\n",
      "Epoch: 42, loss: 1.672047, train accuracy: 0.666667, val accuracy: 0.066667\n",
      "Epoch: 43, loss: 1.767860, train accuracy: 0.666667, val accuracy: 0.066667\n",
      "Epoch: 44, loss: 1.478802, train accuracy: 0.666667, val accuracy: 0.066667\n",
      "Epoch: 45, loss: 1.926619, train accuracy: 0.733333, val accuracy: 0.066667\n",
      "Epoch: 46, loss: 1.337383, train accuracy: 0.733333, val accuracy: 0.066667\n",
      "Epoch: 47, loss: 1.683186, train accuracy: 0.733333, val accuracy: 0.066667\n",
      "Epoch: 48, loss: 1.660081, train accuracy: 0.800000, val accuracy: 0.066667\n",
      "Epoch: 49, loss: 1.401881, train accuracy: 0.733333, val accuracy: 0.133333\n",
      "Epoch: 50, loss: 1.635264, train accuracy: 0.733333, val accuracy: 0.000000\n",
      "Epoch: 51, loss: 1.635617, train accuracy: 0.733333, val accuracy: 0.066667\n",
      "Epoch: 52, loss: 1.622938, train accuracy: 0.733333, val accuracy: 0.066667\n",
      "Epoch: 53, loss: 1.854111, train accuracy: 0.733333, val accuracy: 0.066667\n",
      "Epoch: 54, loss: 1.556636, train accuracy: 0.733333, val accuracy: 0.066667\n",
      "Epoch: 55, loss: 1.634732, train accuracy: 0.733333, val accuracy: 0.066667\n",
      "Epoch: 56, loss: 1.076198, train accuracy: 0.666667, val accuracy: 0.000000\n",
      "Epoch: 57, loss: 1.007559, train accuracy: 0.733333, val accuracy: 0.066667\n",
      "Epoch: 58, loss: 1.531114, train accuracy: 0.733333, val accuracy: 0.066667\n",
      "Epoch: 59, loss: 1.041336, train accuracy: 0.733333, val accuracy: 0.066667\n",
      "Epoch: 60, loss: 2.022564, train accuracy: 0.733333, val accuracy: 0.066667\n",
      "Epoch: 61, loss: 1.647379, train accuracy: 0.733333, val accuracy: 0.066667\n",
      "Epoch: 62, loss: 1.369538, train accuracy: 0.733333, val accuracy: 0.066667\n",
      "Epoch: 63, loss: 1.379903, train accuracy: 0.733333, val accuracy: 0.066667\n",
      "Epoch: 64, loss: 1.986917, train accuracy: 0.733333, val accuracy: 0.066667\n",
      "Epoch: 65, loss: 1.318972, train accuracy: 0.733333, val accuracy: 0.066667\n",
      "Epoch: 66, loss: 1.283966, train accuracy: 0.733333, val accuracy: 0.000000\n",
      "Epoch: 67, loss: 0.936269, train accuracy: 0.733333, val accuracy: 0.066667\n",
      "Epoch: 68, loss: 1.196061, train accuracy: 0.733333, val accuracy: 0.066667\n",
      "Epoch: 69, loss: 1.739352, train accuracy: 0.733333, val accuracy: 0.066667\n",
      "Epoch: 70, loss: 1.634901, train accuracy: 0.733333, val accuracy: 0.066667\n",
      "Epoch: 71, loss: 1.201189, train accuracy: 0.733333, val accuracy: 0.000000\n",
      "Epoch: 72, loss: 1.582981, train accuracy: 0.733333, val accuracy: 0.066667\n",
      "Epoch: 73, loss: 1.742143, train accuracy: 0.733333, val accuracy: 0.066667\n",
      "Epoch: 74, loss: 1.293135, train accuracy: 0.733333, val accuracy: 0.066667\n",
      "Epoch: 75, loss: 1.748190, train accuracy: 0.800000, val accuracy: 0.066667\n",
      "Epoch: 76, loss: 1.976545, train accuracy: 0.800000, val accuracy: 0.000000\n",
      "Epoch: 77, loss: 1.357876, train accuracy: 0.800000, val accuracy: 0.066667\n",
      "Epoch: 78, loss: 0.992895, train accuracy: 0.800000, val accuracy: 0.066667\n",
      "Epoch: 79, loss: 1.602046, train accuracy: 0.800000, val accuracy: 0.066667\n",
      "Epoch: 80, loss: 1.602167, train accuracy: 0.866667, val accuracy: 0.066667\n",
      "Epoch: 81, loss: 1.173057, train accuracy: 0.866667, val accuracy: 0.066667\n",
      "Epoch: 82, loss: 1.312798, train accuracy: 0.866667, val accuracy: 0.000000\n",
      "Epoch: 83, loss: 1.564551, train accuracy: 0.866667, val accuracy: 0.000000\n",
      "Epoch: 84, loss: 0.961713, train accuracy: 0.866667, val accuracy: 0.066667\n",
      "Epoch: 85, loss: 1.274091, train accuracy: 0.866667, val accuracy: 0.066667\n",
      "Epoch: 86, loss: 1.304703, train accuracy: 0.933333, val accuracy: 0.066667\n",
      "Epoch: 87, loss: 0.958926, train accuracy: 0.933333, val accuracy: 0.066667\n",
      "Epoch: 88, loss: 1.377168, train accuracy: 0.866667, val accuracy: 0.066667\n",
      "Epoch: 89, loss: 1.657193, train accuracy: 0.933333, val accuracy: 0.066667\n",
      "Epoch: 90, loss: 1.389767, train accuracy: 0.933333, val accuracy: 0.066667\n",
      "Epoch: 91, loss: 1.576803, train accuracy: 0.933333, val accuracy: 0.066667\n",
      "Epoch: 92, loss: 1.556738, train accuracy: 0.933333, val accuracy: 0.066667\n",
      "Epoch: 93, loss: 1.175409, train accuracy: 0.933333, val accuracy: 0.000000\n",
      "Epoch: 94, loss: 1.322616, train accuracy: 0.933333, val accuracy: 0.066667\n",
      "Epoch: 95, loss: 1.251510, train accuracy: 0.933333, val accuracy: 0.066667\n",
      "Epoch: 96, loss: 1.060407, train accuracy: 0.933333, val accuracy: 0.066667\n",
      "Epoch: 97, loss: 1.661861, train accuracy: 0.933333, val accuracy: 0.066667\n",
      "Epoch: 98, loss: 1.227308, train accuracy: 0.933333, val accuracy: 0.066667\n",
      "Epoch: 99, loss: 1.597969, train accuracy: 0.933333, val accuracy: 0.066667\n",
      "Epoch: 100, loss: 1.887250, train accuracy: 0.933333, val accuracy: 0.066667\n",
      "Epoch: 101, loss: 1.338688, train accuracy: 0.933333, val accuracy: 0.066667\n",
      "Epoch: 102, loss: 1.842966, train accuracy: 0.933333, val accuracy: 0.066667\n",
      "Epoch: 103, loss: 1.160604, train accuracy: 0.933333, val accuracy: 0.066667\n",
      "Epoch: 104, loss: 1.347215, train accuracy: 0.933333, val accuracy: 0.066667\n",
      "Epoch: 105, loss: 1.223119, train accuracy: 0.933333, val accuracy: 0.066667\n",
      "Epoch: 106, loss: 1.436648, train accuracy: 0.933333, val accuracy: 0.000000\n",
      "Epoch: 107, loss: 1.535320, train accuracy: 0.933333, val accuracy: 0.066667\n",
      "Epoch: 108, loss: 1.249121, train accuracy: 0.933333, val accuracy: 0.066667\n",
      "Epoch: 109, loss: 1.248964, train accuracy: 0.933333, val accuracy: 0.000000\n",
      "Epoch: 110, loss: 1.549803, train accuracy: 1.000000, val accuracy: 0.066667\n",
      "Epoch: 111, loss: 1.259687, train accuracy: 0.933333, val accuracy: 0.000000\n",
      "Epoch: 112, loss: 1.097239, train accuracy: 1.000000, val accuracy: 0.000000\n",
      "Epoch: 113, loss: 1.324286, train accuracy: 0.933333, val accuracy: 0.000000\n",
      "Epoch: 114, loss: 1.315431, train accuracy: 0.933333, val accuracy: 0.000000\n",
      "Epoch: 115, loss: 1.420746, train accuracy: 1.000000, val accuracy: 0.000000\n",
      "Epoch: 116, loss: 1.443017, train accuracy: 0.933333, val accuracy: 0.000000\n",
      "Epoch: 117, loss: 1.301618, train accuracy: 1.000000, val accuracy: 0.000000\n",
      "Epoch: 118, loss: 1.533658, train accuracy: 1.000000, val accuracy: 0.000000\n",
      "Epoch: 119, loss: 1.607993, train accuracy: 1.000000, val accuracy: 0.000000\n",
      "Epoch: 120, loss: 1.239065, train accuracy: 0.933333, val accuracy: 0.000000\n",
      "Epoch: 121, loss: 1.649177, train accuracy: 1.000000, val accuracy: 0.000000\n",
      "Epoch: 122, loss: 1.174445, train accuracy: 1.000000, val accuracy: 0.000000\n",
      "Epoch: 123, loss: 1.602848, train accuracy: 1.000000, val accuracy: 0.000000\n",
      "Epoch: 124, loss: 1.363682, train accuracy: 1.000000, val accuracy: 0.000000\n",
      "Epoch: 125, loss: 1.160640, train accuracy: 1.000000, val accuracy: 0.000000\n",
      "Epoch: 126, loss: 1.197888, train accuracy: 1.000000, val accuracy: 0.000000\n",
      "Epoch: 127, loss: 1.126413, train accuracy: 1.000000, val accuracy: 0.000000\n",
      "Epoch: 128, loss: 1.008120, train accuracy: 1.000000, val accuracy: 0.000000\n",
      "Epoch: 129, loss: 1.643235, train accuracy: 1.000000, val accuracy: 0.000000\n",
      "Epoch: 130, loss: 1.592807, train accuracy: 1.000000, val accuracy: 0.000000\n",
      "Epoch: 131, loss: 1.412599, train accuracy: 1.000000, val accuracy: 0.000000\n",
      "Epoch: 132, loss: 1.212850, train accuracy: 1.000000, val accuracy: 0.000000\n",
      "Epoch: 133, loss: 1.196541, train accuracy: 0.933333, val accuracy: 0.000000\n",
      "Epoch: 134, loss: 1.280346, train accuracy: 1.000000, val accuracy: 0.000000\n",
      "Epoch: 135, loss: 1.403204, train accuracy: 1.000000, val accuracy: 0.000000\n",
      "Epoch: 136, loss: 1.229377, train accuracy: 1.000000, val accuracy: 0.000000\n",
      "Epoch: 137, loss: 1.400568, train accuracy: 1.000000, val accuracy: 0.000000\n",
      "Epoch: 138, loss: 1.391042, train accuracy: 1.000000, val accuracy: 0.000000\n",
      "Epoch: 139, loss: 1.102808, train accuracy: 1.000000, val accuracy: 0.000000\n",
      "Epoch: 140, loss: 1.445285, train accuracy: 1.000000, val accuracy: 0.000000\n",
      "Epoch: 141, loss: 1.406323, train accuracy: 1.000000, val accuracy: 0.000000\n",
      "Epoch: 142, loss: 1.219193, train accuracy: 1.000000, val accuracy: 0.000000\n",
      "Epoch: 143, loss: 1.449330, train accuracy: 1.000000, val accuracy: 0.000000\n",
      "Epoch: 144, loss: 1.304464, train accuracy: 1.000000, val accuracy: 0.000000\n",
      "Epoch: 145, loss: 1.494726, train accuracy: 1.000000, val accuracy: 0.000000\n",
      "Epoch: 146, loss: 1.327706, train accuracy: 1.000000, val accuracy: 0.000000\n",
      "Epoch: 147, loss: 1.361608, train accuracy: 1.000000, val accuracy: 0.000000\n",
      "Epoch: 148, loss: 1.460816, train accuracy: 1.000000, val accuracy: 0.000000\n",
      "Epoch: 149, loss: 1.424061, train accuracy: 1.000000, val accuracy: 0.000000\n"
     ]
    }
   ],
   "source": [
    "data_size = 15\n",
    "model = TwoLayerNet(n_input = train_X.shape[1], n_output = 10, hidden_layer_size = 100, reg = 1e-1)\n",
    "dataset = Dataset(train_X[:data_size], train_y[:data_size], val_X[:data_size], val_y[:data_size])\n",
    "trainer = Trainer(model, dataset, SGD(), learning_rate=1e-1, num_epochs=150, batch_size=5)\n",
    "\n",
    "# You should expect this to reach 1.0 training accuracy \n",
    "loss_history, train_history, val_history = trainer.fit()"
   ]
  },
  {
   "cell_type": "code",
   "execution_count": 16,
   "outputs": [
    {
     "data": {
      "text/plain": "<Figure size 432x288 with 1 Axes>",
      "image/png": "[encoded data removed]"
     },
     "metadata": {
      "needs_background": "light"
     },
     "output_type": "display_data"
    }
   ],
   "source": [
    "plt.plot(loss_history);"
   ],
   "metadata": {
    "collapsed": false,
    "pycharm": {
     "name": "#%%\n"
    }
   }
  },
  {
   "cell_type": "code",
   "execution_count": 17,
   "outputs": [
    {
     "data": {
      "text/plain": "<Figure size 432x288 with 1 Axes>",
      "image/png": "[encoded data removed]"
     },
     "metadata": {
      "needs_background": "light"
     },
     "output_type": "display_data"
    }
   ],
   "source": [
    "plt.plot(train_history);"
   ],
   "metadata": {
    "collapsed": false,
    "pycharm": {
     "name": "#%%\n"
    }
   }
  },
  {
   "cell_type": "markdown",
   "metadata": {},
   "source": [
    "Теперь найдем гипепараметры, для которых этот процесс сходится быстрее.\n",
    "Если все реализовано корректно, то существуют параметры, при которых процесс сходится в **20** эпох или еще быстрее.\n",
    "Найдите их!"
   ]
  },
  {
   "cell_type": "code",
   "execution_count": 18,
   "metadata": {},
   "outputs": [
    {
     "name": "stdout",
     "output_type": "stream",
     "text": [
      "Epoch: 0, loss: 2.302515, train accuracy: 0.333333, val accuracy: 0.066667\n",
      "Epoch: 1, loss: 2.290278, train accuracy: 0.200000, val accuracy: 0.133333\n",
      "Epoch: 2, loss: 2.198815, train accuracy: 0.266667, val accuracy: 0.000000\n",
      "Epoch: 3, loss: 2.308215, train accuracy: 0.400000, val accuracy: 0.000000\n",
      "Epoch: 4, loss: 2.140382, train accuracy: 0.400000, val accuracy: 0.000000\n",
      "Epoch: 5, loss: 1.947153, train accuracy: 0.400000, val accuracy: 0.000000\n",
      "Epoch: 6, loss: 1.349985, train accuracy: 0.333333, val accuracy: 0.000000\n",
      "Epoch: 7, loss: 1.304975, train accuracy: 0.400000, val accuracy: 0.000000\n",
      "Epoch: 8, loss: 1.199675, train accuracy: 0.400000, val accuracy: 0.133333\n",
      "Epoch: 9, loss: 0.433688, train accuracy: 0.466667, val accuracy: 0.000000\n",
      "Epoch: 10, loss: 0.846994, train accuracy: 0.600000, val accuracy: 0.000000\n",
      "Epoch: 11, loss: 2.389057, train accuracy: 0.600000, val accuracy: 0.000000\n",
      "Epoch: 12, loss: 0.707858, train accuracy: 0.666667, val accuracy: 0.066667\n",
      "Epoch: 13, loss: 0.851869, train accuracy: 0.866667, val accuracy: 0.066667\n",
      "Epoch: 14, loss: 0.420386, train accuracy: 0.866667, val accuracy: 0.000000\n",
      "Epoch: 15, loss: 0.480039, train accuracy: 1.000000, val accuracy: 0.000000\n",
      "Epoch: 16, loss: 0.104018, train accuracy: 1.000000, val accuracy: 0.000000\n",
      "Epoch: 17, loss: 0.052320, train accuracy: 1.000000, val accuracy: 0.000000\n",
      "Epoch: 18, loss: 0.052364, train accuracy: 1.000000, val accuracy: 0.000000\n",
      "Epoch: 19, loss: 0.015849, train accuracy: 1.000000, val accuracy: 0.000000\n"
     ]
    }
   ],
   "source": [
    "# Now, tweak some hyper parameters and make it train to 1.0 accuracy in 20 epochs or less\n",
    "\n",
    "model = TwoLayerNet(n_input = train_X.shape[1], n_output = 10, hidden_layer_size = 420, reg = 1e-6)\n",
    "dataset = Dataset(train_X[:data_size], train_y[:data_size], val_X[:data_size], val_y[:data_size])\n",
    "# TODO: Change any hyperparamers or optimizators to reach training accuracy in 20 epochs\n",
    "trainer = Trainer(model, dataset, MomentumSGD(), learning_rate=1e-1, num_epochs=20, batch_size=10)\n",
    "\n",
    "loss_history, train_history, val_history = trainer.fit()"
   ]
  },
  {
   "cell_type": "code",
   "execution_count": 19,
   "outputs": [
    {
     "data": {
      "text/plain": "<Figure size 432x288 with 1 Axes>",
      "image/png": "[encoded data removed]"
     },
     "metadata": {
      "needs_background": "light"
     },
     "output_type": "display_data"
    }
   ],
   "source": [
    "plt.plot(loss_history);"
   ],
   "metadata": {
    "collapsed": false,
    "pycharm": {
     "name": "#%%\n"
    }
   }
  },
  {
   "cell_type": "code",
   "execution_count": 20,
   "outputs": [
    {
     "data": {
      "text/plain": "<Figure size 432x288 with 1 Axes>",
      "image/png": "[encoded data removed]"
     },
     "metadata": {
      "needs_background": "light"
     },
     "output_type": "display_data"
    }
   ],
   "source": [
    "plt.plot(train_history);"
   ],
   "metadata": {
    "collapsed": false,
    "pycharm": {
     "name": "#%%\n"
    }
   }
  },
  {
   "cell_type": "markdown",
   "metadata": {},
   "source": [
    "# Итак, основное мероприятие!\n",
    "\n",
    "Натренируйте лучшую нейросеть! Можно добавлять и изменять параметры, менять количество нейронов в слоях сети и как угодно экспериментировать. \n",
    "\n",
    "Добейтесь точности лучше **60%** на validation set."
   ]
  },
  {
   "cell_type": "code",
   "execution_count": 21,
   "metadata": {
    "scrolled": true
   },
   "outputs": [
    {
     "name": "stdout",
     "output_type": "stream",
     "text": [
      "Epoch: 0, loss: 2.179032, train accuracy: 0.196667, val accuracy: 0.206000\n",
      "Epoch: 1, loss: 2.155399, train accuracy: 0.223333, val accuracy: 0.232000\n",
      "Epoch: 2, loss: 1.847522, train accuracy: 0.331444, val accuracy: 0.352000\n",
      "Epoch: 3, loss: 1.594995, train accuracy: 0.457556, val accuracy: 0.455000\n",
      "Epoch: 4, loss: 1.508542, train accuracy: 0.538556, val accuracy: 0.536000\n",
      "Epoch: 5, loss: 1.094075, train accuracy: 0.612556, val accuracy: 0.608000\n",
      "Epoch: 6, loss: 1.004210, train accuracy: 0.636889, val accuracy: 0.605000\n",
      "Epoch: 7, loss: 0.958955, train accuracy: 0.682444, val accuracy: 0.665000\n",
      "Epoch: 8, loss: 0.989820, train accuracy: 0.707889, val accuracy: 0.676000\n",
      "Epoch: 9, loss: 1.107912, train accuracy: 0.729444, val accuracy: 0.697000\n",
      "Epoch: 10, loss: 0.849067, train accuracy: 0.727333, val accuracy: 0.701000\n",
      "Epoch: 11, loss: 0.552901, train accuracy: 0.751000, val accuracy: 0.706000\n",
      "Epoch: 12, loss: 1.019565, train accuracy: 0.754333, val accuracy: 0.713000\n",
      "Epoch: 13, loss: 0.693682, train accuracy: 0.763333, val accuracy: 0.718000\n",
      "Epoch: 14, loss: 0.776973, train accuracy: 0.771111, val accuracy: 0.719000\n",
      "Epoch: 15, loss: 0.769882, train accuracy: 0.786111, val accuracy: 0.728000\n",
      "Epoch: 16, loss: 0.693372, train accuracy: 0.786000, val accuracy: 0.727000\n",
      "Epoch: 17, loss: 0.554330, train accuracy: 0.792667, val accuracy: 0.731000\n",
      "Epoch: 18, loss: 0.434230, train accuracy: 0.798000, val accuracy: 0.736000\n",
      "Epoch: 19, loss: 0.779723, train accuracy: 0.801111, val accuracy: 0.739000\n",
      "Best learning suite: best learning rate: 0.1 best regularization strength: 0.0001 best learning rate decay: 0.9 best hidden layer size: 256 best batch size: 256 \n",
      "Best validation accuracy: 0.739\n",
      "Epoch: 0, loss: 2.301174, train accuracy: 0.196667, val accuracy: 0.206000\n",
      "Epoch: 1, loss: 2.165722, train accuracy: 0.241444, val accuracy: 0.253000\n",
      "Epoch: 2, loss: 1.851784, train accuracy: 0.380111, val accuracy: 0.390000\n",
      "Epoch: 3, loss: 1.317266, train accuracy: 0.511444, val accuracy: 0.501000\n",
      "Epoch: 4, loss: 1.196140, train accuracy: 0.575000, val accuracy: 0.572000\n",
      "Epoch: 5, loss: 1.115946, train accuracy: 0.643444, val accuracy: 0.612000\n",
      "Epoch: 6, loss: 1.279226, train accuracy: 0.672333, val accuracy: 0.670000\n",
      "Epoch: 7, loss: 0.920790, train accuracy: 0.689778, val accuracy: 0.657000\n",
      "Epoch: 8, loss: 1.177860, train accuracy: 0.706222, val accuracy: 0.696000\n",
      "Epoch: 9, loss: 0.948331, train accuracy: 0.732222, val accuracy: 0.696000\n",
      "Epoch: 10, loss: 0.720629, train accuracy: 0.733667, val accuracy: 0.693000\n",
      "Epoch: 11, loss: 0.828679, train accuracy: 0.749000, val accuracy: 0.712000\n",
      "Epoch: 12, loss: 0.934431, train accuracy: 0.762444, val accuracy: 0.723000\n",
      "Epoch: 13, loss: 0.998605, train accuracy: 0.778667, val accuracy: 0.729000\n",
      "Epoch: 14, loss: 0.706162, train accuracy: 0.780222, val accuracy: 0.732000\n",
      "Epoch: 15, loss: 0.991364, train accuracy: 0.789222, val accuracy: 0.741000\n",
      "Epoch: 16, loss: 0.589913, train accuracy: 0.789556, val accuracy: 0.730000\n",
      "Epoch: 17, loss: 0.603971, train accuracy: 0.797222, val accuracy: 0.739000\n",
      "Epoch: 18, loss: 0.923413, train accuracy: 0.804889, val accuracy: 0.732000\n",
      "Epoch: 19, loss: 0.717197, train accuracy: 0.811556, val accuracy: 0.740000\n",
      "Best learning suite: best learning rate: 0.1 best regularization strength: 0.0001 best learning rate decay: 0.9 best hidden layer size: 512 best batch size: 256 \n",
      "Best validation accuracy: 0.74\n",
      "Epoch: 0, loss: 2.156234, train accuracy: 0.196667, val accuracy: 0.206000\n",
      "Epoch: 1, loss: 2.270676, train accuracy: 0.205556, val accuracy: 0.212000\n",
      "Epoch: 2, loss: 1.982612, train accuracy: 0.362222, val accuracy: 0.375000\n",
      "Epoch: 3, loss: 1.552356, train accuracy: 0.492333, val accuracy: 0.501000\n",
      "Epoch: 4, loss: 1.605956, train accuracy: 0.570667, val accuracy: 0.559000\n",
      "Epoch: 5, loss: 1.148250, train accuracy: 0.608556, val accuracy: 0.583000\n",
      "Epoch: 6, loss: 1.238642, train accuracy: 0.647111, val accuracy: 0.632000\n",
      "Epoch: 7, loss: 1.173430, train accuracy: 0.669111, val accuracy: 0.645000\n",
      "Epoch: 8, loss: 0.883225, train accuracy: 0.710444, val accuracy: 0.663000\n",
      "Epoch: 9, loss: 0.846384, train accuracy: 0.720222, val accuracy: 0.687000\n",
      "Epoch: 10, loss: 1.189967, train accuracy: 0.734778, val accuracy: 0.694000\n",
      "Epoch: 11, loss: 0.717837, train accuracy: 0.740444, val accuracy: 0.709000\n",
      "Epoch: 12, loss: 1.026391, train accuracy: 0.760556, val accuracy: 0.712000\n",
      "Epoch: 13, loss: 0.713453, train accuracy: 0.762778, val accuracy: 0.703000\n",
      "Epoch: 14, loss: 0.905551, train accuracy: 0.774667, val accuracy: 0.709000\n",
      "Epoch: 15, loss: 1.007159, train accuracy: 0.779667, val accuracy: 0.717000\n",
      "Epoch: 16, loss: 0.917949, train accuracy: 0.789000, val accuracy: 0.722000\n",
      "Epoch: 17, loss: 0.867689, train accuracy: 0.791222, val accuracy: 0.723000\n",
      "Epoch: 18, loss: 0.533592, train accuracy: 0.800222, val accuracy: 0.721000\n",
      "Epoch: 19, loss: 0.768223, train accuracy: 0.801222, val accuracy: 0.732000\n",
      "Best learning suite: best learning rate: 0.1 best regularization strength: 0.0001 best learning rate decay: 0.9 best hidden layer size: 512 best batch size: 256 \n",
      "Best validation accuracy: 0.74\n",
      "Epoch: 0, loss: 2.068752, train accuracy: 0.196667, val accuracy: 0.206000\n",
      "Epoch: 1, loss: 2.095262, train accuracy: 0.222778, val accuracy: 0.229000\n",
      "Epoch: 2, loss: 1.960444, train accuracy: 0.348778, val accuracy: 0.349000\n",
      "Epoch: 3, loss: 1.293390, train accuracy: 0.454111, val accuracy: 0.469000\n",
      "Epoch: 4, loss: 1.231527, train accuracy: 0.563000, val accuracy: 0.554000\n",
      "Epoch: 5, loss: 0.869431, train accuracy: 0.634556, val accuracy: 0.621000\n",
      "Epoch: 6, loss: 0.979842, train accuracy: 0.677889, val accuracy: 0.642000\n",
      "Epoch: 7, loss: 1.073967, train accuracy: 0.697667, val accuracy: 0.663000\n",
      "Epoch: 8, loss: 0.883980, train accuracy: 0.725667, val accuracy: 0.696000\n",
      "Epoch: 9, loss: 0.804744, train accuracy: 0.734556, val accuracy: 0.692000\n",
      "Epoch: 10, loss: 0.945510, train accuracy: 0.741667, val accuracy: 0.704000\n",
      "Epoch: 11, loss: 0.764564, train accuracy: 0.762222, val accuracy: 0.722000\n",
      "Epoch: 12, loss: 0.913162, train accuracy: 0.769000, val accuracy: 0.716000\n",
      "Epoch: 13, loss: 0.537080, train accuracy: 0.776889, val accuracy: 0.729000\n",
      "Epoch: 14, loss: 0.693632, train accuracy: 0.782556, val accuracy: 0.727000\n",
      "Epoch: 15, loss: 0.871846, train accuracy: 0.794111, val accuracy: 0.733000\n",
      "Epoch: 16, loss: 0.477862, train accuracy: 0.793333, val accuracy: 0.742000\n",
      "Epoch: 17, loss: 0.491319, train accuracy: 0.804111, val accuracy: 0.737000\n",
      "Epoch: 18, loss: 0.634172, train accuracy: 0.808444, val accuracy: 0.750000\n",
      "Epoch: 19, loss: 0.601414, train accuracy: 0.815778, val accuracy: 0.743000\n",
      "Best learning suite: best learning rate: 0.1 best regularization strength: 1e-05 best learning rate decay: 0.9 best hidden layer size: 512 best batch size: 256 \n",
      "Best validation accuracy: 0.743\n",
      "Epoch: 0, loss: 2.316038, train accuracy: 0.196667, val accuracy: 0.206000\n",
      "Epoch: 1, loss: 2.268640, train accuracy: 0.196667, val accuracy: 0.206000\n",
      "Epoch: 2, loss: 2.209745, train accuracy: 0.196667, val accuracy: 0.206000\n",
      "Epoch: 3, loss: 2.248969, train accuracy: 0.196667, val accuracy: 0.206000\n",
      "Epoch: 4, loss: 2.221080, train accuracy: 0.196667, val accuracy: 0.206000\n",
      "Epoch: 5, loss: 2.162552, train accuracy: 0.196667, val accuracy: 0.206000\n",
      "Epoch: 6, loss: 2.266052, train accuracy: 0.196667, val accuracy: 0.206000\n",
      "Epoch: 7, loss: 2.333802, train accuracy: 0.196667, val accuracy: 0.206000\n",
      "Epoch: 8, loss: 2.190693, train accuracy: 0.196667, val accuracy: 0.206000\n",
      "Epoch: 9, loss: 2.135823, train accuracy: 0.196667, val accuracy: 0.206000\n",
      "Epoch: 10, loss: 2.086277, train accuracy: 0.196667, val accuracy: 0.206000\n",
      "Epoch: 11, loss: 2.185820, train accuracy: 0.196667, val accuracy: 0.206000\n",
      "Epoch: 12, loss: 2.286337, train accuracy: 0.196667, val accuracy: 0.206000\n",
      "Epoch: 13, loss: 2.133404, train accuracy: 0.196667, val accuracy: 0.206000\n",
      "Epoch: 14, loss: 2.291631, train accuracy: 0.196667, val accuracy: 0.206000\n",
      "Epoch: 15, loss: 2.050571, train accuracy: 0.196667, val accuracy: 0.206000\n",
      "Epoch: 16, loss: 2.182671, train accuracy: 0.196667, val accuracy: 0.206000\n",
      "Epoch: 17, loss: 2.107519, train accuracy: 0.196667, val accuracy: 0.206000\n",
      "Epoch: 18, loss: 2.262157, train accuracy: 0.196667, val accuracy: 0.206000\n",
      "Epoch: 19, loss: 2.209245, train accuracy: 0.196667, val accuracy: 0.206000\n",
      "Best learning suite: best learning rate: 0.1 best regularization strength: 1e-05 best learning rate decay: 0.9 best hidden layer size: 512 best batch size: 256 \n",
      "Best validation accuracy: 0.743\n",
      "Epoch: 0, loss: 2.260936, train accuracy: 0.196667, val accuracy: 0.206000\n",
      "Epoch: 1, loss: 2.263000, train accuracy: 0.196667, val accuracy: 0.206000\n",
      "Epoch: 2, loss: 2.215657, train accuracy: 0.196667, val accuracy: 0.206000\n",
      "Epoch: 3, loss: 2.164896, train accuracy: 0.196667, val accuracy: 0.206000\n",
      "Epoch: 4, loss: 2.239446, train accuracy: 0.196667, val accuracy: 0.206000\n",
      "Epoch: 5, loss: 2.278783, train accuracy: 0.196667, val accuracy: 0.206000\n",
      "Epoch: 6, loss: 2.234971, train accuracy: 0.196667, val accuracy: 0.206000\n",
      "Epoch: 7, loss: 2.290572, train accuracy: 0.196667, val accuracy: 0.206000\n",
      "Epoch: 8, loss: 2.203006, train accuracy: 0.196667, val accuracy: 0.206000\n",
      "Epoch: 9, loss: 2.297729, train accuracy: 0.196667, val accuracy: 0.206000\n",
      "Epoch: 10, loss: 2.177660, train accuracy: 0.196667, val accuracy: 0.206000\n",
      "Epoch: 11, loss: 2.220603, train accuracy: 0.196667, val accuracy: 0.206000\n",
      "Epoch: 12, loss: 2.253231, train accuracy: 0.196667, val accuracy: 0.206000\n",
      "Epoch: 13, loss: 2.177439, train accuracy: 0.196667, val accuracy: 0.206000\n",
      "Epoch: 14, loss: 2.181593, train accuracy: 0.196667, val accuracy: 0.206000\n",
      "Epoch: 15, loss: 2.209169, train accuracy: 0.196667, val accuracy: 0.206000\n",
      "Epoch: 16, loss: 2.078169, train accuracy: 0.196667, val accuracy: 0.206000\n",
      "Epoch: 17, loss: 2.281303, train accuracy: 0.196667, val accuracy: 0.206000\n",
      "Epoch: 18, loss: 2.196627, train accuracy: 0.196667, val accuracy: 0.206000\n",
      "Epoch: 19, loss: 2.255800, train accuracy: 0.196667, val accuracy: 0.206000\n",
      "Best learning suite: best learning rate: 0.1 best regularization strength: 1e-05 best learning rate decay: 0.9 best hidden layer size: 512 best batch size: 256 \n",
      "Best validation accuracy: 0.743\n",
      "Epoch: 0, loss: 2.291687, train accuracy: 0.196667, val accuracy: 0.206000\n",
      "Epoch: 1, loss: 2.282966, train accuracy: 0.196667, val accuracy: 0.206000\n",
      "Epoch: 2, loss: 2.256882, train accuracy: 0.196667, val accuracy: 0.206000\n",
      "Epoch: 3, loss: 2.257443, train accuracy: 0.196667, val accuracy: 0.206000\n",
      "Epoch: 4, loss: 2.097853, train accuracy: 0.196667, val accuracy: 0.206000\n",
      "Epoch: 5, loss: 2.249886, train accuracy: 0.196667, val accuracy: 0.206000\n",
      "Epoch: 6, loss: 2.223736, train accuracy: 0.196667, val accuracy: 0.206000\n",
      "Epoch: 7, loss: 2.209056, train accuracy: 0.196667, val accuracy: 0.206000\n",
      "Epoch: 8, loss: 2.181375, train accuracy: 0.196667, val accuracy: 0.206000\n",
      "Epoch: 9, loss: 2.210142, train accuracy: 0.196667, val accuracy: 0.206000\n",
      "Epoch: 10, loss: 2.198020, train accuracy: 0.196667, val accuracy: 0.206000\n",
      "Epoch: 11, loss: 2.245299, train accuracy: 0.196667, val accuracy: 0.206000\n",
      "Epoch: 12, loss: 2.155178, train accuracy: 0.196667, val accuracy: 0.206000\n",
      "Epoch: 13, loss: 2.224245, train accuracy: 0.196667, val accuracy: 0.206000\n",
      "Epoch: 14, loss: 2.210488, train accuracy: 0.196667, val accuracy: 0.206000\n",
      "Epoch: 15, loss: 2.068135, train accuracy: 0.196667, val accuracy: 0.206000\n",
      "Epoch: 16, loss: 2.194311, train accuracy: 0.196667, val accuracy: 0.206000\n",
      "Epoch: 17, loss: 2.190805, train accuracy: 0.196667, val accuracy: 0.206000\n",
      "Epoch: 18, loss: 2.302031, train accuracy: 0.196667, val accuracy: 0.206000\n",
      "Epoch: 19, loss: 2.184513, train accuracy: 0.196667, val accuracy: 0.206000\n",
      "Best learning suite: best learning rate: 0.1 best regularization strength: 1e-05 best learning rate decay: 0.9 best hidden layer size: 512 best batch size: 256 \n",
      "Best validation accuracy: 0.743\n",
      "Epoch: 0, loss: 2.233136, train accuracy: 0.196667, val accuracy: 0.206000\n",
      "Epoch: 1, loss: 2.296585, train accuracy: 0.196667, val accuracy: 0.206000\n",
      "Epoch: 2, loss: 2.251814, train accuracy: 0.196667, val accuracy: 0.206000\n",
      "Epoch: 3, loss: 2.242417, train accuracy: 0.196667, val accuracy: 0.206000\n",
      "Epoch: 4, loss: 2.233424, train accuracy: 0.196667, val accuracy: 0.206000\n",
      "Epoch: 5, loss: 2.282825, train accuracy: 0.196667, val accuracy: 0.206000\n",
      "Epoch: 6, loss: 2.123868, train accuracy: 0.196667, val accuracy: 0.206000\n",
      "Epoch: 7, loss: 2.310059, train accuracy: 0.196667, val accuracy: 0.206000\n",
      "Epoch: 8, loss: 2.158063, train accuracy: 0.196667, val accuracy: 0.206000\n",
      "Epoch: 9, loss: 2.300178, train accuracy: 0.196667, val accuracy: 0.206000\n",
      "Epoch: 10, loss: 2.199671, train accuracy: 0.196667, val accuracy: 0.206000\n",
      "Epoch: 11, loss: 2.249476, train accuracy: 0.196667, val accuracy: 0.206000\n",
      "Epoch: 12, loss: 2.205642, train accuracy: 0.196667, val accuracy: 0.206000\n",
      "Epoch: 13, loss: 2.027453, train accuracy: 0.196667, val accuracy: 0.206000\n",
      "Epoch: 14, loss: 2.198082, train accuracy: 0.196667, val accuracy: 0.206000\n",
      "Epoch: 15, loss: 2.203390, train accuracy: 0.196667, val accuracy: 0.206000\n",
      "Epoch: 16, loss: 2.296681, train accuracy: 0.196667, val accuracy: 0.206000\n",
      "Epoch: 17, loss: 2.098730, train accuracy: 0.196667, val accuracy: 0.206000\n",
      "Epoch: 18, loss: 2.145169, train accuracy: 0.196667, val accuracy: 0.206000\n",
      "Epoch: 19, loss: 2.092025, train accuracy: 0.196667, val accuracy: 0.206000\n",
      "Best learning suite: best learning rate: 0.1 best regularization strength: 1e-05 best learning rate decay: 0.9 best hidden layer size: 512 best batch size: 256 \n",
      "Best validation accuracy: 0.743\n",
      "Best validation accuracy achieved: 0.743\n"
     ]
    }
   ],
   "source": [
    "from itertools import product\n",
    "\n",
    "# Let's train the best one-hidden-layer network we can\n",
    "\n",
    "learning_rates = [1e-1, 1e-2]\n",
    "reg_strength = [1e-4, 1e-5]\n",
    "learning_rate_decay = [0.9]\n",
    "hidden_layer_size = [256, 512]\n",
    "num_epochs = 20\n",
    "batch_size = [256]\n",
    "\n",
    "best_classifier = None\n",
    "best_val_accuracy = 0\n",
    "\n",
    "loss_history = []\n",
    "train_history = []\n",
    "val_history = []\n",
    "\n",
    "dataset = Dataset(train_X, train_y, val_X, val_y)\n",
    "\n",
    "# TODO find the best hyperparameters to train the network\n",
    "# Don't hesitate to add new values to the arrays above, perform experiments, use any tricks you want\n",
    "# You should expect to get to at least 40% of valudation accuracy\n",
    "# Save loss/train/history of the best classifier to the variables above\n",
    "\n",
    "learning_suites = [\n",
    "    learning_rates,\n",
    "    reg_strength,\n",
    "    learning_rate_decay,\n",
    "    hidden_layer_size,\n",
    "    batch_size\n",
    "]\n",
    "\n",
    "best_learning_suite = None\n",
    "\n",
    "for lr, rs, lrd, hls, bs in product(*learning_suites):\n",
    "    model = TwoLayerNet(n_input=train_X.shape[1],\n",
    "                        n_output=10,\n",
    "                        hidden_layer_size=hls,\n",
    "                        reg=rs\n",
    "                        )\n",
    "    trainer = Trainer(model, dataset, MomentumSGD(),\n",
    "                      learning_rate=lr,\n",
    "                      learning_rate_decay=lrd,\n",
    "                      num_epochs=num_epochs,\n",
    "                      batch_size=bs\n",
    "                      )\n",
    "    ls_loss_history, ls_train_history, ls_val_history = trainer.fit()\n",
    "\n",
    "    if ls_val_history[-1] > best_val_accuracy:\n",
    "        best_classifier = model\n",
    "        best_val_accuracy = ls_val_history[-1]\n",
    "        best_learning_suite = [(lr, rs, lrd, hls, bs)]\n",
    "        loss_history = ls_loss_history.copy()\n",
    "        train_history = ls_train_history.copy()\n",
    "        val_history = ls_val_history.copy()\n",
    "\n",
    "    for best_lr, best_rs, best_lrd, best_hls, best_bs in best_learning_suite:\n",
    "        print(f'Best learning suite: '\n",
    "              f'best learning rate: {best_lr} '\n",
    "              f'best regularization strength: {best_rs} '\n",
    "              f'best learning rate decay: {best_lrd} '\n",
    "              f'best hidden layer size: {best_hls} '\n",
    "              f'best batch size: {best_bs} '\n",
    "              )\n",
    "    print(f'Best validation accuracy: {best_val_accuracy}')\n",
    "\n",
    "print(f'Best validation accuracy achieved: {best_val_accuracy}')"
   ]
  },
  {
   "cell_type": "code",
   "execution_count": 22,
   "metadata": {},
   "outputs": [
    {
     "data": {
      "text/plain": "[<matplotlib.lines.Line2D at 0x7f577bd25c10>]"
     },
     "execution_count": 22,
     "metadata": {},
     "output_type": "execute_result"
    },
    {
     "data": {
      "text/plain": "<Figure size 1080x504 with 2 Axes>",
      "image/png": "[encoded data removed]"
     },
     "metadata": {
      "needs_background": "light"
     },
     "output_type": "display_data"
    }
   ],
   "source": [
    "plt.figure(figsize=(15, 7))\n",
    "plt.subplot(211)\n",
    "plt.title(\"Loss\")\n",
    "plt.plot(loss_history)\n",
    "plt.subplot(212)\n",
    "plt.title(\"Train/validation accuracy\")\n",
    "plt.plot(train_history)\n",
    "plt.plot(val_history)"
   ]
  },
  {
   "cell_type": "markdown",
   "metadata": {},
   "source": [
    "# Как обычно, посмотрим, как наша лучшая модель работает на тестовых данных"
   ]
  },
  {
   "cell_type": "code",
   "execution_count": 23,
   "metadata": {},
   "outputs": [
    {
     "name": "stdout",
     "output_type": "stream",
     "text": [
      "Neural net test set accuracy: 0.710000\n"
     ]
    }
   ],
   "source": [
    "test_pred = best_classifier.predict(test_X)\n",
    "test_accuracy = multiclass_accuracy(test_pred, test_y)\n",
    "print('Neural net test set accuracy: %f' % (test_accuracy, ))"
   ]
  }
 ],
 "metadata": {
  "kernelspec": {
   "name": "pycharm-2095c804",
   "language": "python",
   "display_name": "PyCharm (dlcourse_ai)"
  },
  "language_info": {
   "codemirror_mode": {
    "name": "ipython",
    "version": 3
   },
   "file_extension": ".py",
   "mimetype": "text/x-python",
   "name": "python",
   "nbconvert_exporter": "python",
   "pygments_lexer": "ipython3",
   "version": "3.7.0"
  }
 },
 "nbformat": 4,
 "nbformat_minor": 2
}