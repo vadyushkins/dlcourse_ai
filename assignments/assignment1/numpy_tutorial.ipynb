{
 "cells": [
  {
   "cell_type": "markdown",
   "metadata": {},
   "source": [
    "## Краткий туториал по NumPy\n",
    "\n",
    "Данное руководство ни в коем случае не предентует на полноту изложения\n",
    "\n",
    "[NumPy](https://docs.scipy.org/doc/numpy/user/index.html)\n",
    "\n",
    "[Quickstart guide](https://docs.scipy.org/doc/numpy/user/quickstart.html)"
   ]
  },
  {
   "cell_type": "markdown",
   "metadata": {},
   "source": [
    "Библиотека NumPy предоставляет возможность удобно работать с многомерными массивами\n",
    "\n",
    "**Преимущества** `NumPy`:\n",
    "* Векторизованные вычисления\n",
    "* Broadcasting\n",
    "\n",
    "**Сравнение производительности**\n",
    "![Imgur](https://i.imgur.com/z4GzOX6.png)\n",
    "\n",
    "Основным использующимся классом библиотеки NumPy является [ndarray](https://docs.scipy.org/doc/numpy/reference/generated/numpy.ndarray.html)\n",
    "\n",
    "**Отличия** `ndarray` и Python sequences: \n",
    "* ndarray может содержать объекты только одного типа\n",
    "* ndarray имеет фиксированную длину, которая определяется в момент его создания"
   ]
  },
  {
   "cell_type": "code",
   "execution_count": 1,
   "metadata": {},
   "outputs": [],
   "source": [
    "import numpy as np"
   ]
  },
  {
   "cell_type": "markdown",
   "metadata": {},
   "source": [
    "### Способы создания Numpy arrays\n",
    "* Конвертация из стуктур данных Python (e.g., lists, tuples)\n",
    "* Генерация с помощью встроенных функций (e.g., arange, ones, zeros, etc.)\n",
    "* Чтение с диска"
   ]
  },
  {
   "cell_type": "markdown",
   "metadata": {},
   "source": [
    "### Конвертация из стуктур данных Python"
   ]
  },
  {
   "cell_type": "code",
   "execution_count": 2,
   "metadata": {},
   "outputs": [
    {
     "data": {
      "text/plain": [
       "array([1, 2, 3, 4, 5])"
      ]
     },
     "execution_count": 2,
     "metadata": {},
     "output_type": "execute_result"
    }
   ],
   "source": [
    "np.array([1, 2, 3, 4, 5])"
   ]
  },
  {
   "cell_type": "markdown",
   "metadata": {},
   "source": [
    "При конвертации можно задавать тип данных с помощью аргумента [dtype](https://docs.scipy.org/doc/numpy/reference/generated/numpy.dtype.html): "
   ]
  },
  {
   "cell_type": "code",
   "execution_count": 3,
   "metadata": {},
   "outputs": [
    {
     "data": {
      "text/plain": [
       "array([1., 2., 3., 4., 5.], dtype=float32)"
      ]
     },
     "execution_count": 3,
     "metadata": {},
     "output_type": "execute_result"
    }
   ],
   "source": [
    "np.array([1, 2, 3, 4, 5], dtype=np.float32)"
   ]
  },
  {
   "cell_type": "markdown",
   "metadata": {},
   "source": [
    "Аналогичное преобразование:"
   ]
  },
  {
   "cell_type": "code",
   "execution_count": 4,
   "metadata": {},
   "outputs": [
    {
     "data": {
      "text/plain": [
       "array([1., 2., 3., 4., 5.], dtype=float32)"
      ]
     },
     "execution_count": 4,
     "metadata": {},
     "output_type": "execute_result"
    }
   ],
   "source": [
    "np.float32([1, 2, 3, 4, 5])"
   ]
  },
  {
   "cell_type": "markdown",
   "metadata": {},
   "source": [
    "**Но**: элементы NumPy array должны быть одного типа"
   ]
  },
  {
   "cell_type": "code",
   "execution_count": 5,
   "metadata": {
    "scrolled": false
   },
   "outputs": [
    {
     "name": "stderr",
     "output_type": "stream",
     "text": [
      "<ipython-input-5-e7c469eeeaa8>:2: VisibleDeprecationWarning: Creating an ndarray from ragged nested sequences (which is a list-or-tuple of lists-or-tuples-or ndarrays with different lengths or shapes) is deprecated. If you meant to do this, you must specify 'dtype=object' when creating the ndarray\n",
      "  np.array(a)\n"
     ]
    },
    {
     "data": {
      "text/plain": [
       "array([1, 'a', 1.2, list([])], dtype=object)"
      ]
     },
     "execution_count": 5,
     "metadata": {},
     "output_type": "execute_result"
    }
   ],
   "source": [
    "a = [1, 'a', 1.2, []]\n",
    "np.array(a)"
   ]
  },
  {
   "cell_type": "code",
   "execution_count": 6,
   "metadata": {},
   "outputs": [
    {
     "data": {
      "text/plain": [
       "array([1, 'a', 1.2, list([])], dtype=object)"
      ]
     },
     "execution_count": 6,
     "metadata": {},
     "output_type": "execute_result"
    }
   ],
   "source": [
    "np.array(a, dtype=object)"
   ]
  },
  {
   "cell_type": "markdown",
   "metadata": {},
   "source": [
    "Размер объекта в байтах:"
   ]
  },
  {
   "cell_type": "code",
   "execution_count": 7,
   "metadata": {},
   "outputs": [
    {
     "data": {
      "text/plain": [
       "20"
      ]
     },
     "execution_count": 7,
     "metadata": {},
     "output_type": "execute_result"
    }
   ],
   "source": [
    "np.float32([1, 2, 3, 4, 5]).nbytes"
   ]
  },
  {
   "cell_type": "code",
   "execution_count": 8,
   "metadata": {},
   "outputs": [
    {
     "data": {
      "text/plain": [
       "10"
      ]
     },
     "execution_count": 8,
     "metadata": {},
     "output_type": "execute_result"
    }
   ],
   "source": [
    "np.float16([1, 2, 3, 4, 5]).nbytes"
   ]
  },
  {
   "cell_type": "markdown",
   "metadata": {},
   "source": [
    "### Генерация с помощью встроенных функций"
   ]
  },
  {
   "cell_type": "markdown",
   "metadata": {},
   "source": [
    "* [arange](https://docs.scipy.org/doc/numpy/reference/generated/numpy.arange.html) — аналог range из Python, можно передать нецелочисленный шаг\n",
    "* [linspace](https://docs.scipy.org/doc/numpy/reference/generated/numpy.linspace.html) — равномерное разбиение отрезка на n-1 интервал\n",
    "* [logspace](https://docs.scipy.org/doc/numpy/reference/generated/numpy.logspace.html) — разбиение отрезка по логарифмической шкале\n",
    "* [zeros](https://docs.scipy.org/doc/numpy/reference/generated/numpy.zeros.html) — массив из нулей заданной размерности\n",
    "* [ones](https://docs.scipy.org/doc/numpy/reference/generated/numpy.ones.html) — массив из единиц\n",
    "* [empty](https://docs.scipy.org/doc/numpy/reference/generated/numpy.empty.html) — массив неинициализированный никаким значением\n",
    "* [random](https://docs.scipy.org/doc/numpy/reference/routines.random.html) - модуль, предоставляющий различные функции создания случайных массивов"
   ]
  },
  {
   "cell_type": "code",
   "execution_count": 9,
   "metadata": {},
   "outputs": [
    {
     "data": {
      "text/plain": [
       "array([0. , 0.5, 1. , 1.5, 2. , 2.5])"
      ]
     },
     "execution_count": 9,
     "metadata": {},
     "output_type": "execute_result"
    }
   ],
   "source": [
    "np.arange(0, 3, 0.5)"
   ]
  },
  {
   "cell_type": "code",
   "execution_count": 10,
   "metadata": {},
   "outputs": [
    {
     "data": {
      "text/plain": [
       "array([0. , 0.5, 1. , 1.5, 2. , 2.5, 3. ])"
      ]
     },
     "execution_count": 10,
     "metadata": {},
     "output_type": "execute_result"
    }
   ],
   "source": [
    "np.linspace(0, 3, 7)"
   ]
  },
  {
   "cell_type": "code",
   "execution_count": 11,
   "metadata": {},
   "outputs": [
    {
     "data": {
      "text/plain": [
       "array([  1.,   2.,   4.,   8.,  16.,  32.,  64., 128., 256., 512.])"
      ]
     },
     "execution_count": 11,
     "metadata": {},
     "output_type": "execute_result"
    }
   ],
   "source": [
    "np.logspace(0, 9, 10, base=2)"
   ]
  },
  {
   "cell_type": "code",
   "execution_count": 12,
   "metadata": {},
   "outputs": [
    {
     "data": {
      "text/plain": [
       "array([[0., 0., 0.],\n",
       "       [0., 0., 0.],\n",
       "       [0., 0., 0.]])"
      ]
     },
     "execution_count": 12,
     "metadata": {},
     "output_type": "execute_result"
    }
   ],
   "source": [
    "np.zeros((3, 3))"
   ]
  },
  {
   "cell_type": "code",
   "execution_count": 13,
   "metadata": {},
   "outputs": [
    {
     "data": {
      "text/plain": [
       "array([[1., 1., 1., 1., 1.],\n",
       "       [1., 1., 1., 1., 1.],\n",
       "       [1., 1., 1., 1., 1.]])"
      ]
     },
     "execution_count": 13,
     "metadata": {},
     "output_type": "execute_result"
    }
   ],
   "source": [
    "np.ones((3, 5))"
   ]
  },
  {
   "cell_type": "code",
   "execution_count": 14,
   "metadata": {},
   "outputs": [
    {
     "data": {
      "text/plain": [
       "array([[-1.28822975e-231,  2.00389598e+000,  2.47032823e-323,\n",
       "         0.00000000e+000],\n",
       "       [ 0.00000000e+000,  0.00000000e+000,  1.73059834e-077,\n",
       "         1.73059834e-077]])"
      ]
     },
     "execution_count": 14,
     "metadata": {},
     "output_type": "execute_result"
    }
   ],
   "source": [
    "np.empty((2, 4))"
   ]
  },
  {
   "cell_type": "code",
   "execution_count": 15,
   "metadata": {},
   "outputs": [
    {
     "data": {
      "text/plain": [
       "array([0.09035285, 0.50906286, 0.11298052, 0.75972102, 0.7637489 ,\n",
       "       0.23707389, 0.23444423, 0.45842258, 0.35093273, 0.83720082])"
      ]
     },
     "execution_count": 15,
     "metadata": {},
     "output_type": "execute_result"
    }
   ],
   "source": [
    "np.random.rand(10)"
   ]
  },
  {
   "cell_type": "markdown",
   "metadata": {},
   "source": [
    "Pазмеры массива хранятся в поле **shape**, а количество размерностей - в **ndim**"
   ]
  },
  {
   "cell_type": "code",
   "execution_count": 9,
   "metadata": {
    "scrolled": true
   },
   "outputs": [
    {
     "name": "stdout",
     "output_type": "stream",
     "text": [
      "Размерность массива - (2, 3), количество размерностей - 2\n"
     ]
    }
   ],
   "source": [
    "array = np.ones((2, 3))\n",
    "print('Размерность массива - {}, количество размерностей - {}'.format(array.shape, array.ndim))"
   ]
  },
  {
   "cell_type": "markdown",
   "metadata": {},
   "source": [
    "Метод [reshape](https://docs.scipy.org/doc/numpy/reference/generated/numpy.reshape.html) возвращает новое `view` массива, если возможно. Если нет, то возвращается копия"
   ]
  },
  {
   "cell_type": "code",
   "execution_count": 11,
   "metadata": {},
   "outputs": [
    {
     "data": {
      "text/plain": [
       "array([[0, 1, 2, 3, 4],\n",
       "       [5, 6, 7, 8, 9]])"
      ]
     },
     "execution_count": 11,
     "metadata": {},
     "output_type": "execute_result"
    }
   ],
   "source": [
    "array = np.arange(0, 10, 1)\n",
    "array = array.reshape((2, 5))\n",
    "array"
   ]
  },
  {
   "cell_type": "markdown",
   "metadata": {},
   "source": [
    "Если нужно, чтобы возникала ошибка при копировании, стоит присваивать новое значение атрибута `shape`, а не пользоваться функцией `reshape`"
   ]
  },
  {
   "cell_type": "markdown",
   "metadata": {},
   "source": [
    "Функция [ravel](https://docs.scipy.org/doc/numpy/reference/generated/numpy.ravel.html) позволяет развернуть многомерный массив в вектор "
   ]
  },
  {
   "cell_type": "code",
   "execution_count": 13,
   "metadata": {},
   "outputs": [
    {
     "data": {
      "text/plain": [
       "array([0, 1, 2, 3, 4, 5, 6, 7, 8, 9])"
      ]
     },
     "execution_count": 13,
     "metadata": {},
     "output_type": "execute_result"
    }
   ],
   "source": [
    "array = np.ravel(array)\n",
    "array"
   ]
  },
  {
   "cell_type": "code",
   "execution_count": 15,
   "metadata": {},
   "outputs": [
    {
     "ename": "AttributeError",
     "evalue": "Incompatible shape for in-place modification. Use `.reshape()` to make a copy with the desired shape.",
     "output_type": "error",
     "traceback": [
      "\u001b[0;31m---------------------------------------------------------------------------\u001b[0m",
      "\u001b[0;31mAttributeError\u001b[0m                            Traceback (most recent call last)",
      "\u001b[0;32m<ipython-input-15-b6752c6307d0>\u001b[0m in \u001b[0;36m<module>\u001b[0;34m\u001b[0m\n\u001b[1;32m      5\u001b[0m \u001b[0;31m# the initial object.\u001b[0m\u001b[0;34m\u001b[0m\u001b[0;34m\u001b[0m\u001b[0;34m\u001b[0m\u001b[0m\n\u001b[1;32m      6\u001b[0m \u001b[0mc\u001b[0m \u001b[0;34m=\u001b[0m \u001b[0mb\u001b[0m\u001b[0;34m.\u001b[0m\u001b[0mview\u001b[0m\u001b[0;34m(\u001b[0m\u001b[0;34m)\u001b[0m\u001b[0;34m\u001b[0m\u001b[0;34m\u001b[0m\u001b[0m\n\u001b[0;32m----> 7\u001b[0;31m \u001b[0mc\u001b[0m\u001b[0;34m.\u001b[0m\u001b[0mshape\u001b[0m \u001b[0;34m=\u001b[0m \u001b[0;34m(\u001b[0m\u001b[0;36m20\u001b[0m\u001b[0;34m)\u001b[0m\u001b[0;34m\u001b[0m\u001b[0;34m\u001b[0m\u001b[0m\n\u001b[0m",
      "\u001b[0;31mAttributeError\u001b[0m: Incompatible shape for in-place modification. Use `.reshape()` to make a copy with the desired shape."
     ]
    }
   ],
   "source": [
    "a = np.zeros((10, 2))\n",
    "# A transpose makes the array non-contiguous\n",
    "b = a.T\n",
    "# Taking a view makes it possible to modify the shape without modifying\n",
    "# the initial object.\n",
    "c = b.view()\n",
    "c.shape = (20)"
   ]
  },
  {
   "cell_type": "markdown",
   "metadata": {},
   "source": [
    "### Индексация"
   ]
  },
  {
   "cell_type": "markdown",
   "metadata": {},
   "source": [
    "NumPy использует привычную индексацию Python, в том числе отрицательные индексы и срезы"
   ]
  },
  {
   "cell_type": "code",
   "execution_count": 16,
   "metadata": {},
   "outputs": [
    {
     "name": "stdout",
     "output_type": "stream",
     "text": [
      "[0 1 2 3 4 5 6 7 8 9]\n",
      "3\n",
      "9\n",
      "[1 2 3 4 5 6 7 8]\n",
      "[1 3 5 7]\n",
      "[9 8 7 6 5 4 3 2 1 0]\n"
     ]
    }
   ],
   "source": [
    "print(array)\n",
    "print(array[3])\n",
    "print(array[-1])\n",
    "print(array[1:-1])\n",
    "print(array[1:-1:2])\n",
    "print(array[::-1])"
   ]
  },
  {
   "cell_type": "markdown",
   "metadata": {},
   "source": [
    "**Замечание 1** Срезы в numpy возвращают `view`, а не копию массива"
   ]
  },
  {
   "cell_type": "markdown",
   "metadata": {},
   "source": [
    "**Замечание 2**: При индексации многомерных массивов можно использовать только одну пару квадратных скобоок, т.е. вместо `array[i][j]` можно писать `array[i, j]`"
   ]
  },
  {
   "cell_type": "markdown",
   "metadata": {},
   "source": [
    "В качестве индексов можно использовать массивы индексов и булевые маски:"
   ]
  },
  {
   "cell_type": "code",
   "execution_count": 17,
   "metadata": {},
   "outputs": [
    {
     "data": {
      "text/plain": [
       "array([0, 2, 4, 6, 8])"
      ]
     },
     "execution_count": 17,
     "metadata": {},
     "output_type": "execute_result"
    }
   ],
   "source": [
    "array[[0, 2, 4, 6, 8]]"
   ]
  },
  {
   "cell_type": "code",
   "execution_count": 18,
   "metadata": {},
   "outputs": [
    {
     "data": {
      "text/plain": [
       "array([0, 2, 4, 6, 8])"
      ]
     },
     "execution_count": 18,
     "metadata": {},
     "output_type": "execute_result"
    }
   ],
   "source": [
    "array[[True, False, True, False, True, False, True, False, True, False]]"
   ]
  },
  {
   "cell_type": "code",
   "execution_count": 19,
   "metadata": {},
   "outputs": [
    {
     "data": {
      "text/plain": [
       "array([1, 3, 5, 7, 9])"
      ]
     },
     "execution_count": 19,
     "metadata": {},
     "output_type": "execute_result"
    }
   ],
   "source": [
    "array[array % 2 != 0]"
   ]
  },
  {
   "cell_type": "markdown",
   "metadata": {},
   "source": [
    "`:` - полный срез по оси"
   ]
  },
  {
   "cell_type": "code",
   "execution_count": 20,
   "metadata": {},
   "outputs": [
    {
     "data": {
      "text/plain": [
       "array([[1, 4]])"
      ]
     },
     "execution_count": 20,
     "metadata": {},
     "output_type": "execute_result"
    }
   ],
   "source": [
    "x = np.array([[[1, 2, 3], [4, 5, 6]]])\n",
    "x[:, :, 0]"
   ]
  },
  {
   "cell_type": "markdown",
   "metadata": {},
   "source": [
    "Если количество индексов меньше количества осей, то пропущенные индексы считаются равными `:`"
   ]
  },
  {
   "cell_type": "code",
   "execution_count": 21,
   "metadata": {},
   "outputs": [
    {
     "data": {
      "text/plain": [
       "array([[1, 2, 3],\n",
       "       [4, 5, 6]])"
      ]
     },
     "execution_count": 21,
     "metadata": {},
     "output_type": "execute_result"
    }
   ],
   "source": [
    "x[0]"
   ]
  },
  {
   "cell_type": "markdown",
   "metadata": {},
   "source": [
    "`...` (**dots**) - удобный синтаксис, когда нужно использовать несколько `:` для задания полного индекса\n",
    "\n",
    "Например, пусть `x` - `np.array` с 5 осями. Тогда\n",
    "\n",
    "```\n",
    "x[1, 2, ...] - то же самое, что x[1, 2, :, :, :],\n",
    "x[..., 3] эквивалетно x[:, :, :, :, 3]\n",
    "x[4, ..., 5, :] эквивалентно x[4, :, :, 5, :]\n",
    "```"
   ]
  },
  {
   "cell_type": "code",
   "execution_count": 22,
   "metadata": {},
   "outputs": [
    {
     "data": {
      "text/plain": [
       "array([[1, 4]])"
      ]
     },
     "execution_count": 22,
     "metadata": {},
     "output_type": "execute_result"
    }
   ],
   "source": [
    "x[..., 0]"
   ]
  },
  {
   "cell_type": "markdown",
   "metadata": {},
   "source": [
    "`np.newaxis` и `None`"
   ]
  },
  {
   "cell_type": "code",
   "execution_count": 24,
   "metadata": {},
   "outputs": [
    {
     "name": "stdout",
     "output_type": "stream",
     "text": [
      "[10 20] (2,)\n",
      "[[10 20]] (1, 2) (1, 2)\n",
      "[[10 20]] (1, 2)\n",
      "[[10]\n",
      " [20]] (2, 1)\n"
     ]
    }
   ],
   "source": [
    "x = np.array([10, 20])\n",
    "print(x, x.shape)\n",
    "print(x[np.newaxis], x[np.newaxis].shape, x[None].shape)\n",
    "print(x[np.newaxis, :], x[np.newaxis, :].shape)\n",
    "print(x[:, np.newaxis], x[:, np.newaxis].shape)"
   ]
  },
  {
   "cell_type": "markdown",
   "metadata": {},
   "source": [
    "### Операции"
   ]
  },
  {
   "cell_type": "markdown",
   "metadata": {
    "collapsed": true
   },
   "source": [
    "`NumPy` позволяет производить операции над массивами одинаковой размерности (в том числе над многомерными) без использования циклов"
   ]
  },
  {
   "cell_type": "code",
   "execution_count": 25,
   "metadata": {},
   "outputs": [],
   "source": [
    "a = np.array([0, 2, 4, 6, 8, 10])\n",
    "b = np.array([10, 12, 14, 16, 18, 110])"
   ]
  },
  {
   "cell_type": "code",
   "execution_count": 26,
   "metadata": {},
   "outputs": [
    {
     "name": "stdout",
     "output_type": "stream",
     "text": [
      "[ -10  -10  -10  -10  -10 -100]\n",
      "[ 10  14  18  22  26 120]\n",
      "[   0   24   56   96  144 1100]\n",
      "[0.         0.16666667 0.28571429 0.375      0.44444444 0.09090909]\n"
     ]
    }
   ],
   "source": [
    "print(a - b)\n",
    "print(a + b)\n",
    "print(a * b)\n",
    "print(a / b)"
   ]
  },
  {
   "cell_type": "markdown",
   "metadata": {},
   "source": [
    "Также `NumPy` предоставляет разнообразные математические операции"
   ]
  },
  {
   "cell_type": "code",
   "execution_count": 27,
   "metadata": {},
   "outputs": [
    {
     "name": "stdout",
     "output_type": "stream",
     "text": [
      "-0.5440211108893699\n",
      "10.0\n",
      "7.38905609893065\n"
     ]
    }
   ],
   "source": [
    "print(np.sin(10))\n",
    "print(np.sqrt(100))\n",
    "print(np.exp(2))"
   ]
  },
  {
   "cell_type": "markdown",
   "metadata": {},
   "source": [
    "**Замечание:** Все арифметические операции над массивами одинаковой размерности производятся поэлементно"
   ]
  },
  {
   "cell_type": "markdown",
   "metadata": {},
   "source": [
    "### [Broadcasting](https://docs.scipy.org/doc/numpy/user/basics.broadcasting.html)"
   ]
  },
  {
   "cell_type": "markdown",
   "metadata": {},
   "source": [
    "Broadcasting позволяет производить арифметические операции над массивами разных, но согласованных размерностей.\n",
    "\n",
    "Правило согласования размерностей: `Two dimensions are compatible when they are equal, or one of them is 1`\n",
    "\n",
    "В противном случае будет выброшено исключение `ValueError: operands could not be broadcast together `\n",
    "\n",
    "Пример: умножение вектора на число:\n",
    "\n",
    "![Imgur](https://i.imgur.com/tE3ZCWG.gif)"
   ]
  },
  {
   "cell_type": "code",
   "execution_count": 28,
   "metadata": {},
   "outputs": [
    {
     "data": {
      "text/plain": [
       "array([2, 4, 6])"
      ]
     },
     "execution_count": 28,
     "metadata": {},
     "output_type": "execute_result"
    }
   ],
   "source": [
    "np.arange(1, 4) * 2"
   ]
  },
  {
   "cell_type": "markdown",
   "metadata": {},
   "source": [
    "Если количество размерностей не совпадает, то к массиву меньшей размерности добавляются размерности \"слева\""
   ]
  },
  {
   "cell_type": "code",
   "execution_count": 30,
   "metadata": {},
   "outputs": [
    {
     "name": "stdout",
     "output_type": "stream",
     "text": [
      "(2, 3, 4) (4,) (2, 3, 4)\n"
     ]
    }
   ],
   "source": [
    "a = np.ones((2,3,4))\n",
    "b = np.ones(4)\n",
    "c = a * b  # a.shape == (2, 3, 4) -> b.shape is considered to be (1, 1, 4)\n",
    "\n",
    "print(a.shape, b.shape, c.shape)"
   ]
  },
  {
   "cell_type": "markdown",
   "metadata": {},
   "source": [
    "Сложение строк матрицы с одним и тем же вектором:"
   ]
  },
  {
   "cell_type": "markdown",
   "metadata": {},
   "source": [
    "![Imgur](https://i.imgur.com/VsP2dqT.gif)"
   ]
  },
  {
   "cell_type": "code",
   "execution_count": 34,
   "metadata": {},
   "outputs": [
    {
     "name": "stdout",
     "output_type": "stream",
     "text": [
      "[[ 0  1  2]\n",
      " [10 11 12]\n",
      " [20 21 22]\n",
      " [30 31 32]]\n"
     ]
    }
   ],
   "source": [
    "a = np.array(\n",
    "    [[0, 0, 0],\n",
    "     [10, 10, 10],\n",
    "     [20, 20, 20],\n",
    "     [30, 30, 30]]\n",
    ")\n",
    "b = np.arange(3)\n",
    "\n",
    "c = a + b\n",
    "print(c)"
   ]
  },
  {
   "cell_type": "markdown",
   "metadata": {},
   "source": [
    "Сложить вектор со столбцами, а не со строками, не получится, т.к. вектор должен состоять из 4 элементов и поэтому размерности будут не согласованы"
   ]
  },
  {
   "cell_type": "markdown",
   "metadata": {},
   "source": [
    "![Imgur](https://i.imgur.com/9LvGoeL.gif)"
   ]
  },
  {
   "cell_type": "markdown",
   "metadata": {},
   "source": [
    "Для такой операции нужно преобразовать вектор:"
   ]
  },
  {
   "cell_type": "code",
   "execution_count": 31,
   "metadata": {},
   "outputs": [
    {
     "data": {
      "text/plain": [
       "array([[0],\n",
       "       [1],\n",
       "       [2],\n",
       "       [3]])"
      ]
     },
     "execution_count": 31,
     "metadata": {},
     "output_type": "execute_result"
    }
   ],
   "source": [
    "b = np.arange(4)[:, np.newaxis]\n",
    "b"
   ]
  },
  {
   "cell_type": "markdown",
   "metadata": {},
   "source": [
    "А затем сложить его с матрицей:"
   ]
  },
  {
   "cell_type": "code",
   "execution_count": 32,
   "metadata": {},
   "outputs": [
    {
     "data": {
      "text/plain": [
       "array([[ 0,  0,  0],\n",
       "       [11, 11, 11],\n",
       "       [22, 22, 22],\n",
       "       [33, 33, 33]])"
      ]
     },
     "execution_count": 32,
     "metadata": {},
     "output_type": "execute_result"
    }
   ],
   "source": [
    "a = np.array([[0, 0, 0], [10, 10, 10], [20, 20, 20], [30, 30, 30]])\n",
    "b + a"
   ]
  },
  {
   "cell_type": "markdown",
   "metadata": {},
   "source": [
    "Оператор `*` выполняет поэлеметное умножение массивов. Для умножения по правилу перемножения матриц следует использовать функцию [np.dot](https://docs.scipy.org/doc/numpy/reference/generated/numpy.dot.html)\n",
    "\n",
    "Для траспонирования матриц можно использовать `ndarray.T` (пример: `a.T`) или [np.transpose](https://docs.scipy.org/doc/numpy/reference/generated/numpy.ndarray.transpose.html)\n",
    "\n",
    "Так же в NumPy реализованно много полезных операций для работы с массивами:\n",
    "- [np.min](https://docs.scipy.org/doc/numpy/reference/generated/numpy.ndarray.min.html),\n",
    "- [np.max](https://docs.scipy.org/doc/numpy/reference/generated/numpy.ndarray.max.html),\n",
    "- [np.sum](https://docs.scipy.org/doc/numpy/reference/generated/numpy.sum.html),\n",
    "- [np.mean](https://docs.scipy.org/doc/numpy/reference/generated/numpy.mean.html)\n",
    "- ...\n",
    "\n",
    "**Замечание:** многие функции имеют параметр **axis**, который указывает по какому измерению производить данную операцию. По умолчанию операция производится по всем значениям массива\n",
    "\n",
    "Например,"
   ]
  },
  {
   "cell_type": "code",
   "execution_count": 33,
   "metadata": {},
   "outputs": [
    {
     "name": "stdout",
     "output_type": "stream",
     "text": [
      "Среднее всех значений: 214.0\n",
      "Среднее значение по столбцам: [107. 214. 321.]\n",
      "Среднее значение по строкам: [  2.  40. 600.]\n"
     ]
    }
   ],
   "source": [
    "a = [[1, 2, 3],\n",
    "    [20, 40, 60],\n",
    "    [300, 600, 900]\n",
    "]\n",
    "\n",
    "print('Среднее всех значений: {}'.format(np.mean(a)))\n",
    "print('Среднее значение по столбцам: {}'.format(np.mean(a, axis=0)))\n",
    "print('Среднее значение по строкам: {}'.format(np.mean(a, axis=1)))"
   ]
  },
  {
   "cell_type": "markdown",
   "metadata": {},
   "source": [
    "### Конкатенация многомерных массивов\n",
    "\n",
    "Конкатенировать несколько массивом можно с помощью функций [**np.concatenate, np.hstack, np.vstack**](https://stackoverflow.com/questions/33356442/when-should-i-use-hstack-vstack-vs-append-vs-concatenate-vs-column-stack)"
   ]
  },
  {
   "cell_type": "code",
   "execution_count": 55,
   "metadata": {},
   "outputs": [],
   "source": [
    "a = [[1, 2, 3],\n",
    "    [20, 40, 60],\n",
    "    [300, 600, 900]]\n",
    "\n",
    "b = [[-1, -2, -3],\n",
    "    [-20, -40, -60],\n",
    "    [-300, -600, -900]]"
   ]
  },
  {
   "cell_type": "code",
   "execution_count": 56,
   "metadata": {},
   "outputs": [
    {
     "data": {
      "text/plain": [
       "array([[   1,    2,    3,   -1,   -2,   -3],\n",
       "       [  20,   40,   60,  -20,  -40,  -60],\n",
       "       [ 300,  600,  900, -300, -600, -900]])"
      ]
     },
     "execution_count": 56,
     "metadata": {},
     "output_type": "execute_result"
    }
   ],
   "source": [
    "np.hstack([a, b])"
   ]
  },
  {
   "cell_type": "code",
   "execution_count": 57,
   "metadata": {},
   "outputs": [
    {
     "data": {
      "text/plain": [
       "array([[   1,    2,    3],\n",
       "       [  20,   40,   60],\n",
       "       [ 300,  600,  900],\n",
       "       [  -1,   -2,   -3],\n",
       "       [ -20,  -40,  -60],\n",
       "       [-300, -600, -900]])"
      ]
     },
     "execution_count": 57,
     "metadata": {},
     "output_type": "execute_result"
    }
   ],
   "source": [
    "np.vstack([a, b])"
   ]
  },
  {
   "cell_type": "markdown",
   "metadata": {},
   "source": [
    "## [scipy.sparse](https://docs.scipy.org/doc/scipy/reference/sparse.html)"
   ]
  },
  {
   "cell_type": "markdown",
   "metadata": {},
   "source": [
    "Библиотека scipy.sparse предоставляет возможность удобно работать с 2D-разреженными матрицами\n",
    "\n",
    "**Типы матриц**:\n",
    "* bsr_matrix — Block Sparse Row matrix\n",
    "* coo_matrix — A sparse matrix in COOrdinate format\n",
    "* csc_matrix — Compressed Sparse Column matrix\n",
    "* csr_matrix — Compressed Sparse Row matrix\n",
    "* dia_matrix — Sparse matrix with DIAgonal storage\n",
    "* dok_matrix — Dictionary Of Keys based sparse matrix\n",
    "* lil_matrix — Row-based linked list sparse matrix"
   ]
  },
  {
   "cell_type": "code",
   "execution_count": 34,
   "metadata": {},
   "outputs": [],
   "source": [
    "from scipy.sparse import csc_matrix, eye, hstack, vstack"
   ]
  },
  {
   "cell_type": "markdown",
   "metadata": {},
   "source": [
    "**Создание**:"
   ]
  },
  {
   "cell_type": "code",
   "execution_count": 35,
   "metadata": {},
   "outputs": [
    {
     "data": {
      "text/plain": [
       "array([[0, 0, 0, 0],\n",
       "       [0, 0, 0, 0],\n",
       "       [0, 0, 0, 0]], dtype=int8)"
      ]
     },
     "execution_count": 35,
     "metadata": {},
     "output_type": "execute_result"
    }
   ],
   "source": [
    "m = csc_matrix((3, 4), dtype=np.int8)\n",
    "m.toarray()"
   ]
  },
  {
   "cell_type": "code",
   "execution_count": 36,
   "metadata": {},
   "outputs": [
    {
     "data": {
      "text/plain": [
       "array([[0, 0, 0, 0],\n",
       "       [0, 0, 0, 0],\n",
       "       [0, 0, 0, 0]], dtype=int8)"
      ]
     },
     "execution_count": 36,
     "metadata": {},
     "output_type": "execute_result"
    }
   ],
   "source": [
    "m = csc_matrix(np.zeros((3, 4), dtype=np.int8))\n",
    "m.toarray()"
   ]
  },
  {
   "cell_type": "code",
   "execution_count": 38,
   "metadata": {},
   "outputs": [
    {
     "data": {
      "text/plain": [
       "array([[1, 0, 0, 0],\n",
       "       [0, 1, 0, 0],\n",
       "       [0, 0, 1, 0],\n",
       "       [0, 0, 0, 1]], dtype=int8)"
      ]
     },
     "execution_count": 38,
     "metadata": {},
     "output_type": "execute_result"
    }
   ],
   "source": [
    "m = eye(4, 4, dtype=np.int8, format='csc')\n",
    "m.toarray()"
   ]
  },
  {
   "cell_type": "code",
   "execution_count": 39,
   "metadata": {},
   "outputs": [
    {
     "data": {
      "text/plain": [
       "array([[1, 0, 4],\n",
       "       [0, 0, 5],\n",
       "       [2, 3, 6]])"
      ]
     },
     "execution_count": 39,
     "metadata": {},
     "output_type": "execute_result"
    }
   ],
   "source": [
    "row = np.array([0, 2, 2, 0, 1, 2])\n",
    "col = np.array([0, 0, 1, 2, 2, 2])\n",
    "data = np.array([1, 2, 3, 4, 5, 6])\n",
    "m = csc_matrix((data, (row, col)), shape=(3, 3))\n",
    "m.toarray()"
   ]
  },
  {
   "cell_type": "code",
   "execution_count": 40,
   "metadata": {},
   "outputs": [
    {
     "name": "stdout",
     "output_type": "stream",
     "text": [
      "numpy int8 10000\n",
      "sparse int8 404\n"
     ]
    }
   ],
   "source": [
    "n = np.zeros((100, 100), dtype=np.int8)\n",
    "print(\"numpy {} {}\".format(n.dtype, n.nbytes))\n",
    "\n",
    "s = csc_matrix((100, 100), dtype=np.int8)\n",
    "sparse_bytes = s.data.nbytes + s.indptr.nbytes + s.indices.nbytes\n",
    "print(\"sparse {} {}\".format(s.dtype, sparse_bytes))"
   ]
  },
  {
   "cell_type": "markdown",
   "metadata": {},
   "source": [
    "**Индексирование**:"
   ]
  },
  {
   "cell_type": "code",
   "execution_count": 41,
   "metadata": {},
   "outputs": [
    {
     "data": {
      "text/plain": [
       "array([[0],\n",
       "       [0],\n",
       "       [3]])"
      ]
     },
     "execution_count": 41,
     "metadata": {},
     "output_type": "execute_result"
    }
   ],
   "source": [
    "m[:, 1].toarray()"
   ]
  },
  {
   "cell_type": "markdown",
   "metadata": {},
   "source": [
    "**Операции**:"
   ]
  },
  {
   "cell_type": "code",
   "execution_count": 42,
   "metadata": {},
   "outputs": [
    {
     "name": "stdout",
     "output_type": "stream",
     "text": [
      "[[ 2  0  8]\n",
      " [ 0  0 10]\n",
      " [ 4  6 12]]\n",
      "[[0.5 0.  2. ]\n",
      " [0.  0.  2.5]\n",
      " [1.  1.5 3. ]]\n"
     ]
    }
   ],
   "source": [
    "print((m * 2).toarray())\n",
    "print((m / 2).toarray())\n",
    "# print((m - 2).toarray()) # is not supported\n",
    "# print((m + 2).toarray()) # is not supported"
   ]
  },
  {
   "cell_type": "markdown",
   "metadata": {},
   "source": [
    "**Конкатенация**:"
   ]
  },
  {
   "cell_type": "code",
   "execution_count": 43,
   "metadata": {},
   "outputs": [
    {
     "name": "stdout",
     "output_type": "stream",
     "text": [
      "[[1 0 0 0]\n",
      " [0 1 0 0]\n",
      " [0 0 1 0]\n",
      " [0 0 0 1]\n",
      " [2 0 0 0]\n",
      " [0 2 0 0]\n",
      " [0 0 2 0]\n",
      " [0 0 0 2]]\n",
      "[[1 0 0 0 2 0 0 0]\n",
      " [0 1 0 0 0 2 0 0]\n",
      " [0 0 1 0 0 0 2 0]\n",
      " [0 0 0 1 0 0 0 2]]\n"
     ]
    }
   ],
   "source": [
    "a = eye(4, 4, dtype=np.int8, format='csc')\n",
    "b = eye(4, 4, dtype=np.int8, format='csc')\n",
    "\n",
    "v = vstack((a, b * 2))\n",
    "print(v.toarray())\n",
    "\n",
    "h = hstack((a, b * 2))\n",
    "print(h.toarray())"
   ]
  },
  {
   "cell_type": "markdown",
   "metadata": {},
   "source": [
    "## [Matplotlib](https://matplotlib.org/)"
   ]
  },
  {
   "cell_type": "code",
   "execution_count": 44,
   "metadata": {},
   "outputs": [],
   "source": [
    "import matplotlib.pylab as plt"
   ]
  },
  {
   "cell_type": "code",
   "execution_count": 45,
   "metadata": {},
   "outputs": [
    {
     "data": {
      "image/png": "[encoded data removed]",
      "text/plain": [
       "<Figure size 720x360 with 1 Axes>"
      ]
     },
     "metadata": {
      "needs_background": "light"
     },
     "output_type": "display_data"
    }
   ],
   "source": [
    "x = np.linspace(-10, 10, 1001)\n",
    "y = np.cos(x)\n",
    "\n",
    "plt.figure(figsize=(10, 5))\n",
    "plt.title('cos')\n",
    "plt.plot(x, y, color='blue')\n",
    "plt.xlabel('X')\n",
    "plt.ylabel('cos')\n",
    "plt.show()"
   ]
  },
  {
   "cell_type": "markdown",
   "metadata": {},
   "source": [
    "Два графика вместе"
   ]
  },
  {
   "cell_type": "code",
   "execution_count": 46,
   "metadata": {},
   "outputs": [
    {
     "data": {
      "image/png": "[encoded data removed]",
      "text/plain": [
       "<Figure size 720x360 with 1 Axes>"
      ]
     },
     "metadata": {
      "needs_background": "light"
     },
     "output_type": "display_data"
    }
   ],
   "source": [
    "x = np.linspace(-1, 10, 1001)\n",
    "y1 = 2 ** x\n",
    "y2 = np.exp(x)\n",
    "\n",
    "plt.figure(figsize=(10, 5))\n",
    "plt.title('Graphs')\n",
    "plt.plot(x, y1, color='blue', label='2**x')\n",
    "plt.plot(x, y2, color='lime', label='exp(x)')\n",
    "\n",
    "plt.legend(loc='upper left')\n",
    "plt.xlabel('x')\n",
    "plt.ylabel('y')\n",
    "plt.show()"
   ]
  },
  {
   "cell_type": "markdown",
   "metadata": {},
   "source": [
    "`subplotes`"
   ]
  },
  {
   "cell_type": "code",
   "execution_count": 47,
   "metadata": {},
   "outputs": [
    {
     "data": {
      "image/png": "[encoded data removed]",
      "text/plain": [
       "<Figure size 864x288 with 2 Axes>"
      ]
     },
     "metadata": {
      "needs_background": "light"
     },
     "output_type": "display_data"
    }
   ],
   "source": [
    "plt.figure(figsize=(12, 4))\n",
    "\n",
    "plt.subplot(121)\n",
    "plt.title('sin')\n",
    "plt.plot(x, y1, color='darkgreen')\n",
    "plt.xlabel('x')\n",
    "plt.ylabel('y')\n",
    "\n",
    "plt.subplot(122)\n",
    "plt.title('cos')\n",
    "plt.plot(x, y2, color='orange')\n",
    "plt.xlabel('x')\n",
    "\n",
    "plt.show()"
   ]
  },
  {
   "cell_type": "code",
   "execution_count": 48,
   "metadata": {},
   "outputs": [
    {
     "data": {
      "image/png": "[encoded data removed]",
      "text/plain": [
       "<Figure size 720x360 with 1 Axes>"
      ]
     },
     "metadata": {
      "needs_background": "light"
     },
     "output_type": "display_data"
    }
   ],
   "source": [
    "x1 = np.random.rand(1000)\n",
    "x2 = np.random.rand(1000) * 0.3\n",
    "\n",
    "plt.figure(figsize=(10, 5))\n",
    "for x, label, color in zip([x1, x2], ['x1', 'x2'], ['lime', 'purple']):\n",
    "    plt.hist(x, bins=20, color=color, label=label)\n",
    "plt.xlabel('hist')\n",
    "plt.ylabel('count')\n",
    "plt.legend()\n",
    "plt.show()"
   ]
  },
  {
   "cell_type": "code",
   "execution_count": 49,
   "metadata": {},
   "outputs": [
    {
     "data": {
      "image/png": "[encoded data removed]",
      "text/plain": [
       "<Figure size 360x360 with 1 Axes>"
      ]
     },
     "metadata": {
      "needs_background": "light"
     },
     "output_type": "display_data"
    }
   ],
   "source": [
    "plt.figure(figsize=(5, 5))\n",
    "plt.scatter(x1, x2, color='black')\n",
    "plt.xlabel('x1')\n",
    "plt.ylabel('x2')\n",
    "plt.show()"
   ]
  },
  {
   "cell_type": "code",
   "execution_count": null,
   "metadata": {},
   "outputs": [],
   "source": []
  }
 ],
 "metadata": {
  "kernelspec": {
   "display_name": "Python 3",
   "language": "python",
   "name": "python3"
  },
  "language_info": {
   "codemirror_mode": {
    "name": "ipython",
    "version": 3
   },
   "file_extension": ".py",
   "mimetype": "text/x-python",
   "name": "python",
   "nbconvert_exporter": "python",
   "pygments_lexer": "ipython3",
   "version": "3.8.5"
  }
 },
 "nbformat": 4,
 "nbformat_minor": 2
}
